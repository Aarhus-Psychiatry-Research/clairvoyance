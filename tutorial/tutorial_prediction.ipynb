{
 "cells": [
  {
   "cell_type": "markdown",
   "metadata": {},
   "source": [
    "<img src=\"figure/clairvoyance_logo.png\">\n",
    "\n",
    "# Clairvoyance: Time-series prediction\n",
    "\n",
    "## ML-AIM (http://vanderschaar-lab.com/)\n",
    "\n",
    "This notebook describes the user-guide of a time-series predictions application using Clairvoyance framework. Time-series prediction is defined as following: utilize both static and temporal features to predict certain labels in the future. For instance, using the temporal data (vitals, lab tests) and static data (demographic information), we predict 'whether the patient will die at the end of hospital stay' or 'whether the patient will get ventilator after 4 hours'. \n",
    "- One-shot prediction: Predict the patient state at the end of the time-series at certain time point.\n",
    "  - Example: Predict patient mortality (at the end of the hospital stays) after 24 hours from the admission.\n",
    "- Rolling window (online) prediction:\n",
    "  - Example: Predict ventilator after 24 hours from the current time point.\n",
    " \n",
    "<img src=\"figure/time-series-prediction-definition.png\">\n",
    "\n",
    "To run this tutorial, you need:\n",
    "### Temporal and static datasets for training and testing\n",
    "\n",
    "If users come with their own temporal and static datasets for training and testing, the users should save those files as 'data_name_temporal_train_data_eav.csv.gz', 'data_name_static_train_data.csv.gz', 'data_name_temporal_test_data_eav.csv.gz', 'data_name_static_test_data.csv.gz' in '../datasets/data/data_name/' directory.\n",
    "\n",
    "\n",
    "### Prerequisite\n",
    "Clone https://github.com/jsyoon0823/time-series-automl.git to the current directory."
   ]
  },
  {
   "cell_type": "markdown",
   "metadata": {},
   "source": [
    "## Time-series prediction pipeline summary\n",
    "\n",
    "<img src=\"figure/time-series-prediction-block-diagram.png\">\n",
    "\n",
    "### Step 1: Load dataset\n",
    "  - Extract csv files from the original raw datasets in ../datasets/data/data_name/ directory.  \n",
    "  \n",
    "### Step 2: Preprocess dataset\n",
    "  - Preprocessing the raw data using various filters such as (1) replacing negative values to NaN, (2) do one-hot encidng for certain features, (3) do normalization.  \n",
    "  \n",
    "### Step 3: Define problem\n",
    "  - Set the time-series prediction problem that we want to solve. Set the problem (whether it is one-shot or online prediction), set the label, set the maximum sequence length, and set the treatment features. We also define the metric for evaluation and the task itself (whether classification or regression).\n",
    "\n",
    "### Step 4: Impute dataset\n",
    "  - Impute missing values in the preprocessed static and temporal datasets and return complete datasets.\n",
    "  \n",
    "### Step 5: Feature selection\n",
    "  - Select the relevant static and temporal features to the labels. You can skip the feature selection (set feature selection method = None).\n",
    "  \n",
    "### Step 6: Time-series model fit and predict\n",
    "  - After finishing the data preparation, we define the predictive models and train the model using the training dataset. After training, we use the trained model to predict the labels of the testing dataset.\n",
    "  \n",
    "### Step 7: Estimate uncertainty\n",
    "  - Estimate uncertainty of the predictor models and returns the uncertainty of the predictions.\n",
    "\n",
    "### Step 8: Interpret predictions\n",
    "  - Interpret the trained predictor model and return the instance-wise feature and temporal importance.\n",
    "\n",
    "### Step 9: Visualize results\n",
    "  - Visualize the various results such as performance, predictions, uncertainties, and interpretations."
   ]
  },
  {
   "cell_type": "markdown",
   "metadata": {},
   "source": []
  },
  {
   "cell_type": "markdown",
   "metadata": {},
   "source": [
    "## Step 0: Import necessary packages\n",
    "\n",
    "Import necessary packages for the entire tutorials."
   ]
  },
  {
   "cell_type": "code",
   "execution_count": 1,
   "metadata": {},
   "outputs": [],
   "source": [
    "# Necessary packages\n",
    "# from __future__ import absolute_importb\n",
    "from __future__ import division\n",
    "from __future__ import print_function\n",
    "\n",
    "import numpy as np\n",
    "import warnings\n",
    "warnings.filterwarnings('ignore')\n",
    "import sys\n",
    "sys.path.append('../')"
   ]
  },
  {
   "cell_type": "code",
   "execution_count": 2,
   "metadata": {},
   "outputs": [],
   "source": [
    "from utils import PipelineComposer"
   ]
  },
  {
   "cell_type": "markdown",
   "metadata": {},
   "source": [
    "## Step 1: Load dataset\n",
    "\n",
    "Extract temporal and static datasets from 'data_name_temporal_train_data_eav.csv.gz', 'data_name_static_train_data.csv.gz', 'data_name_temporal_test_data_eav.csv.gz', 'data_name_static_test_data.csv.gz' in '../datasets/data/data_name/' directory.\n",
    "\n",
    "- CSVLoader: Load csv files from the original raw datasets in ../datasets/data/data_name/ directory.\n",
    "- file_names: mimic in this tutorial."
   ]
  },
  {
   "cell_type": "code",
   "execution_count": 3,
   "metadata": {},
   "outputs": [
    {
     "name": "stdout",
     "output_type": "stream",
     "text": [
      "Finish data loading.\n"
     ]
    }
   ],
   "source": [
    "from datasets import CSVLoader\n",
    "\n",
    "# Define data name\n",
    "data_name = \"practice\"\n",
    "# Define data dictionary\n",
    "data_directory = \"../datasets/data/practice/\"\n",
    "\n",
    "# Load train and test datasets\n",
    "data_loader_training = CSVLoader(\n",
    "    static_file=data_directory + \"train_static.csv\", temporal_file=data_directory + \"train_temporal.csv\"\n",
    ")\n",
    "\n",
    "data_loader_testing = CSVLoader(\n",
    "    static_file=data_directory + \"test_static.csv\", temporal_file=data_directory + \"test_temporal.csv\"\n",
    ")\n",
    "\n",
    "dataset_training = data_loader_training.load()\n",
    "dataset_testing = data_loader_testing.load()\n",
    "\n",
    "print(\"Finish data loading.\")"
   ]
  },
  {
   "cell_type": "code",
   "execution_count": 4,
   "metadata": {},
   "outputs": [
    {
     "data": {
      "text/html": [
       "<div>\n",
       "<style scoped>\n",
       "    .dataframe tbody tr th:only-of-type {\n",
       "        vertical-align: middle;\n",
       "    }\n",
       "\n",
       "    .dataframe tbody tr th {\n",
       "        vertical-align: top;\n",
       "    }\n",
       "\n",
       "    .dataframe thead th {\n",
       "        text-align: right;\n",
       "    }\n",
       "</style>\n",
       "<table border=\"1\" class=\"dataframe\">\n",
       "  <thead>\n",
       "    <tr style=\"text-align: right;\">\n",
       "      <th>variable</th>\n",
       "      <th>id</th>\n",
       "      <th>time</th>\n",
       "      <th>family</th>\n",
       "      <th>onpromotion</th>\n",
       "      <th>sales</th>\n",
       "      <th>total_sales</th>\n",
       "    </tr>\n",
       "  </thead>\n",
       "  <tbody>\n",
       "    <tr>\n",
       "      <td>0</td>\n",
       "      <td>2</td>\n",
       "      <td>2013-01-01</td>\n",
       "      <td>17.0</td>\n",
       "      <td>67.0</td>\n",
       "      <td>0.000000</td>\n",
       "      <td>0.000000</td>\n",
       "    </tr>\n",
       "    <tr>\n",
       "      <td>1</td>\n",
       "      <td>2</td>\n",
       "      <td>2013-01-02</td>\n",
       "      <td>17.0</td>\n",
       "      <td>67.0</td>\n",
       "      <td>311.112696</td>\n",
       "      <td>10266.718981</td>\n",
       "    </tr>\n",
       "    <tr>\n",
       "      <td>2</td>\n",
       "      <td>2</td>\n",
       "      <td>2013-01-03</td>\n",
       "      <td>17.0</td>\n",
       "      <td>67.0</td>\n",
       "      <td>230.683030</td>\n",
       "      <td>7612.540000</td>\n",
       "    </tr>\n",
       "    <tr>\n",
       "      <td>3</td>\n",
       "      <td>2</td>\n",
       "      <td>2013-01-04</td>\n",
       "      <td>17.0</td>\n",
       "      <td>67.0</td>\n",
       "      <td>228.072030</td>\n",
       "      <td>7526.377000</td>\n",
       "    </tr>\n",
       "    <tr>\n",
       "      <td>4</td>\n",
       "      <td>2</td>\n",
       "      <td>2013-01-05</td>\n",
       "      <td>17.0</td>\n",
       "      <td>67.0</td>\n",
       "      <td>289.077758</td>\n",
       "      <td>9539.566000</td>\n",
       "    </tr>\n",
       "  </tbody>\n",
       "</table>\n",
       "</div>"
      ],
      "text/plain": [
       "variable  id        time  family  onpromotion       sales   total_sales\n",
       "0          2  2013-01-01    17.0         67.0    0.000000      0.000000\n",
       "1          2  2013-01-02    17.0         67.0  311.112696  10266.718981\n",
       "2          2  2013-01-03    17.0         67.0  230.683030   7612.540000\n",
       "3          2  2013-01-04    17.0         67.0  228.072030   7526.377000\n",
       "4          2  2013-01-05    17.0         67.0  289.077758   9539.566000"
      ]
     },
     "execution_count": 4,
     "metadata": {},
     "output_type": "execute_result"
    }
   ],
   "source": [
    "dataset_training.temporal_data.head()"
   ]
  },
  {
   "cell_type": "markdown",
   "metadata": {},
   "source": [
    "## Step 2: Preprocess dataset\n",
    "\n",
    "Preprocess the raw data using multiple filters. In this tutorial, we replace all the negative values to NaN (using NegativeFilter), do one-hot encoding on 'admission_type' feature (using OneHotEncoder), and do MinMax Normalization (using Normalization). Preprocessing is done for both training and testing datasets. \n",
    "  - NegativeFilter: Replace negative values to NaN\n",
    "  - OneHotEncoder: One hot encoding certain features\n",
    "    - one_hot_encoding: input features that need to be one-hot encoded\n",
    "  - Normalization (3 options): MinMax, Standard, None"
   ]
  },
  {
   "cell_type": "code",
   "execution_count": 5,
   "metadata": {},
   "outputs": [
    {
     "name": "stdout",
     "output_type": "stream",
     "text": [
      "Finish preprocessing.\n"
     ]
    }
   ],
   "source": [
    "from preprocessing import OneHotEncoder\n",
    "\n",
    "# (2) one-hot encode categorical features\n",
    "one_hot_encoding = [\"city\", \"state\", \"type\", \"family\"]\n",
    "onehot_encoder = OneHotEncoder(one_hot_encoding_features=one_hot_encoding)\n",
    "\n",
    "# Data preprocessing\n",
    "filter_pipeline = PipelineComposer(onehot_encoder)\n",
    "\n",
    "dataset_training = filter_pipeline.fit_transform(dataset_training)\n",
    "dataset_testing = filter_pipeline.transform(dataset_testing)\n",
    "\n",
    "print(\"Finish preprocessing.\")"
   ]
  },
  {
   "cell_type": "code",
   "execution_count": 6,
   "metadata": {},
   "outputs": [
    {
     "data": {
      "text/html": [
       "<div>\n",
       "<style scoped>\n",
       "    .dataframe tbody tr th:only-of-type {\n",
       "        vertical-align: middle;\n",
       "    }\n",
       "\n",
       "    .dataframe tbody tr th {\n",
       "        vertical-align: top;\n",
       "    }\n",
       "\n",
       "    .dataframe thead th {\n",
       "        text-align: right;\n",
       "    }\n",
       "</style>\n",
       "<table border=\"1\" class=\"dataframe\">\n",
       "  <thead>\n",
       "    <tr style=\"text-align: right;\">\n",
       "      <th></th>\n",
       "      <th>id</th>\n",
       "      <th>time</th>\n",
       "      <th>onpromotion</th>\n",
       "      <th>sales</th>\n",
       "      <th>total_sales</th>\n",
       "      <th>family_17.0</th>\n",
       "    </tr>\n",
       "  </thead>\n",
       "  <tbody>\n",
       "    <tr>\n",
       "      <td>0</td>\n",
       "      <td>2</td>\n",
       "      <td>2013-01-01</td>\n",
       "      <td>67.000000</td>\n",
       "      <td>0.000000</td>\n",
       "      <td>0.000000</td>\n",
       "      <td>1</td>\n",
       "    </tr>\n",
       "    <tr>\n",
       "      <td>1</td>\n",
       "      <td>2</td>\n",
       "      <td>2013-01-02</td>\n",
       "      <td>67.000000</td>\n",
       "      <td>311.112696</td>\n",
       "      <td>10266.718981</td>\n",
       "      <td>1</td>\n",
       "    </tr>\n",
       "    <tr>\n",
       "      <td>2</td>\n",
       "      <td>2</td>\n",
       "      <td>2013-01-03</td>\n",
       "      <td>67.000000</td>\n",
       "      <td>230.683030</td>\n",
       "      <td>7612.540000</td>\n",
       "      <td>1</td>\n",
       "    </tr>\n",
       "    <tr>\n",
       "      <td>3</td>\n",
       "      <td>2</td>\n",
       "      <td>2013-01-04</td>\n",
       "      <td>67.000000</td>\n",
       "      <td>228.072030</td>\n",
       "      <td>7526.377000</td>\n",
       "      <td>1</td>\n",
       "    </tr>\n",
       "    <tr>\n",
       "      <td>4</td>\n",
       "      <td>2</td>\n",
       "      <td>2013-01-05</td>\n",
       "      <td>67.000000</td>\n",
       "      <td>289.077758</td>\n",
       "      <td>9539.566000</td>\n",
       "      <td>1</td>\n",
       "    </tr>\n",
       "    <tr>\n",
       "      <td>...</td>\n",
       "      <td>...</td>\n",
       "      <td>...</td>\n",
       "      <td>...</td>\n",
       "      <td>...</td>\n",
       "      <td>...</td>\n",
       "      <td>...</td>\n",
       "    </tr>\n",
       "    <tr>\n",
       "      <td>995</td>\n",
       "      <td>2</td>\n",
       "      <td>2015-09-25</td>\n",
       "      <td>99.424242</td>\n",
       "      <td>428.077333</td>\n",
       "      <td>14126.550000</td>\n",
       "      <td>1</td>\n",
       "    </tr>\n",
       "    <tr>\n",
       "      <td>996</td>\n",
       "      <td>2</td>\n",
       "      <td>2015-09-26</td>\n",
       "      <td>97.727273</td>\n",
       "      <td>553.343364</td>\n",
       "      <td>18260.330000</td>\n",
       "      <td>1</td>\n",
       "    </tr>\n",
       "    <tr>\n",
       "      <td>997</td>\n",
       "      <td>2</td>\n",
       "      <td>2015-09-27</td>\n",
       "      <td>97.545455</td>\n",
       "      <td>627.069727</td>\n",
       "      <td>20693.300000</td>\n",
       "      <td>1</td>\n",
       "    </tr>\n",
       "    <tr>\n",
       "      <td>998</td>\n",
       "      <td>2</td>\n",
       "      <td>2015-09-28</td>\n",
       "      <td>83.424242</td>\n",
       "      <td>381.401030</td>\n",
       "      <td>12586.230000</td>\n",
       "      <td>1</td>\n",
       "    </tr>\n",
       "    <tr>\n",
       "      <td>999</td>\n",
       "      <td>2</td>\n",
       "      <td>2015-09-29</td>\n",
       "      <td>96.606061</td>\n",
       "      <td>375.533485</td>\n",
       "      <td>12392.610000</td>\n",
       "      <td>1</td>\n",
       "    </tr>\n",
       "  </tbody>\n",
       "</table>\n",
       "<p>1000 rows × 6 columns</p>\n",
       "</div>"
      ],
      "text/plain": [
       "     id        time  onpromotion       sales   total_sales  family_17.0\n",
       "0     2  2013-01-01    67.000000    0.000000      0.000000            1\n",
       "1     2  2013-01-02    67.000000  311.112696  10266.718981            1\n",
       "2     2  2013-01-03    67.000000  230.683030   7612.540000            1\n",
       "3     2  2013-01-04    67.000000  228.072030   7526.377000            1\n",
       "4     2  2013-01-05    67.000000  289.077758   9539.566000            1\n",
       "..   ..         ...          ...         ...           ...          ...\n",
       "995   2  2015-09-25    99.424242  428.077333  14126.550000            1\n",
       "996   2  2015-09-26    97.727273  553.343364  18260.330000            1\n",
       "997   2  2015-09-27    97.545455  627.069727  20693.300000            1\n",
       "998   2  2015-09-28    83.424242  381.401030  12586.230000            1\n",
       "999   2  2015-09-29    96.606061  375.533485  12392.610000            1\n",
       "\n",
       "[1000 rows x 6 columns]"
      ]
     },
     "execution_count": 6,
     "metadata": {},
     "output_type": "execute_result"
    }
   ],
   "source": [
    "dataset_training.temporal_data.head(1000)\n",
    "# dataset_testing.temporal_data.head(500)"
   ]
  },
  {
   "cell_type": "markdown",
   "metadata": {},
   "source": [
    "## Step 3: Define problem   \n",
    "\n",
    "Set the time-series prediction problem that we want to solve. Set the problem (whether it is one-shot or online prediction), set the label, set the maximum sequence length, and set the treatment features. We also define the metric for evaluation and the task itself (whether classification or regression). In this tutorial, we predict whether the patients will get ventilator after 4 hours (online setting).\n",
    "  - problem: 'one-shot'(one time prediction) or 'online'(rolling window prediction)\n",
    "    - 'one-shot': one time prediction at the end of the time-series \n",
    "    - 'online': preditcion at every time stamps of the time-series\n",
    "  - max_seq_len: maximum sequence length of time-series sequence\n",
    "  - label_name: the column name for the label(s)\n",
    "  - treatment: the column name for treatments\n",
    "  - window: x-hour ahead prediction.\n",
    "  \n",
    "  - other parameters:\n",
    "    - metric_name: auc, apr, mse, mae\n",
    "    - task: classification or regression"
   ]
  },
  {
   "cell_type": "code",
   "execution_count": 7,
   "metadata": {},
   "outputs": [
    {
     "name": "stderr",
     "output_type": "stream",
     "text": [
      "100%|██████████| 37/37 [00:00<00:00, 449.24it/s]\n",
      "100%|██████████| 37/37 [00:00<00:00, 529.06it/s]\n",
      "100%|██████████| 37/37 [00:00<00:00, 529.71it/s]\n",
      "100%|██████████| 17/17 [00:00<00:00, 575.84it/s]\n",
      "100%|██████████| 17/17 [00:00<00:00, 573.68it/s]\n",
      "100%|██████████| 17/17 [00:00<00:00, 527.12it/s]"
     ]
    },
    {
     "name": "stdout",
     "output_type": "stream",
     "text": [
      "Finish defining problem.\n"
     ]
    },
    {
     "name": "stderr",
     "output_type": "stream",
     "text": [
      "\n"
     ]
    }
   ],
   "source": [
    "from preprocessing import ProblemMaker\n",
    "\n",
    "# Define parameters\n",
    "problem = 'online'\n",
    "max_seq_len = 24\n",
    "label_name = 'total_sales'\n",
    "treatment = None\n",
    "window = 4\n",
    "\n",
    "# Define problem \n",
    "problem_maker = ProblemMaker(problem=problem, label=[label_name],\n",
    "                             max_seq_len=max_seq_len, treatment=treatment, window = window)\n",
    "\n",
    "dataset_training = problem_maker.fit_transform(dataset_training)\n",
    "dataset_testing = problem_maker.fit_transform(dataset_testing)\n",
    "\n",
    "# Set other parameters\n",
    "metric_name = 'auc'\n",
    "task = 'classification'\n",
    "\n",
    "metric_sets = [metric_name]\n",
    "metric_parameters =  {'problem': problem, 'label_name': [label_name]}\n",
    "\n",
    "print('Finish defining problem.')"
   ]
  },
  {
   "cell_type": "markdown",
   "metadata": {},
   "source": [
    "## Step 4: Impute dataset\n",
    "\n",
    "Impute missing values in the preprocessed static and temporal datasets and return complete datasets.\n",
    "  - Static imputation (6 options): mean, median, mice, missforest, knn, gain\n",
    "  - Temporal imputation (8 options): mean, median, linear, quadratic, cubic, spline, mrnn, tgain"
   ]
  },
  {
   "cell_type": "code",
   "execution_count": 8,
   "metadata": {},
   "outputs": [],
   "source": [
    "# from imputation import Imputation\n",
    "\n",
    "# # Set imputation models\n",
    "# static_imputation_model = 'median'\n",
    "# temporal_imputation_model = 'median'\n",
    "\n",
    "# # Impute the missing data\n",
    "# static_imputation = Imputation(imputation_model_name = static_imputation_model, data_type = 'static')\n",
    "# temporal_imputation = Imputation(imputation_model_name = temporal_imputation_model, data_type = 'temporal')\n",
    "\n",
    "# imputation_pipeline = PipelineComposer(static_imputation, temporal_imputation)\n",
    "\n",
    "# dataset_training = imputation_pipeline.fit_transform(dataset_training)\n",
    "# dataset_testing = imputation_pipeline.transform(dataset_testing)\n",
    "\n",
    "# print('Finish imputation.')"
   ]
  },
  {
   "cell_type": "markdown",
   "metadata": {},
   "source": [
    "## Step 5: Feature selection\n",
    "\n",
    "Select the relevant static and temporal features to the labels. If you do not want, we can skip the feature selection (set feature selection method = None).\n",
    "  - feature selection method: \n",
    "      - feature_selection_model: greedy-addition, greedy-deletion, recursive-addition, recursive-deletion, None\n",
    "      - feature_number: selected featuer number"
   ]
  },
  {
   "cell_type": "code",
   "execution_count": 9,
   "metadata": {},
   "outputs": [],
   "source": [
    "# from feature_selection import FeatureSelection\n",
    "\n",
    "# # Set feature selection parameters\n",
    "# static_feature_selection_model = None\n",
    "# temporal_feature_selection_model = None\n",
    "# static_feature_selection_number = None\n",
    "# temporal_feature_selection_number = None\n",
    "\n",
    "# # Select relevant features\n",
    "# static_feature_selection = \\\n",
    "# FeatureSelection(feature_selection_model_name = static_feature_selection_model,\n",
    "#                  feature_type = 'static', feature_number = static_feature_selection_number,\n",
    "#                  task = task, metric_name = metric_name,\n",
    "#                  metric_parameters = metric_parameters)\n",
    "\n",
    "# temporal_feature_selection = \\\n",
    "# FeatureSelection(feature_selection_model_name = temporal_feature_selection_model,\n",
    "#                  feature_type = 'temporal', feature_number = temporal_feature_selection_number,\n",
    "#                  task = task, metric_name = metric_name,\n",
    "#                  metric_parameters = metric_parameters)\n",
    "\n",
    "# feature_selection_pipeline = PipelineComposer(static_feature_selection, temporal_feature_selection)\n",
    "\n",
    "# dataset_training = feature_selection_pipeline.fit_transform(dataset_training)\n",
    "# dataset_testing = feature_selection_pipeline.transform(dataset_testing)\n",
    "\n",
    "# print('Finish feature selection.')"
   ]
  },
  {
   "cell_type": "markdown",
   "metadata": {},
   "source": [
    "## Step 6: Time-series model fit and predict\n",
    "\n",
    "After finishing the data preparation, we define the predictive models (6 options, RNN, GRU, LSTM, Attention, Temporal CNN, and Transformer), and train the model using the training dataset. We set validation set as the 20% of the training set for early stopping and best model saving. After training, we use the trained model to predict the labels of the testing dataset.\n",
    "\n",
    "- predictor_parameters:\n",
    "  - model_name: rnn, gru, lstm, attention, tcn, transformer\n",
    "  - model_parameters: network parameters such as numer of layers\n",
    "    - h_dim: hidden dimensions\n",
    "    - n_layer: layer number\n",
    "    - n_head: head number (only for transformer model)\n",
    "    - batch_size: number of samples in mini-batch\n",
    "    - epochs: number of epochs\n",
    "    - learning_rate: learning rate\n",
    "  - static_mode: how to utilize static features (concatenate or None)\n",
    "  - time_mode: how to utilize time information (concatenate or None)"
   ]
  },
  {
   "cell_type": "code",
   "execution_count": 10,
   "metadata": {},
   "outputs": [
    {
     "name": "stderr",
     "output_type": "stream",
     "text": [
      "Using TensorFlow backend.\n"
     ]
    },
    {
     "name": "stdout",
     "output_type": "stream",
     "text": [
      "WARNING:tensorflow:From /Users/au554730/Desktop/Projects/clairvoyance/.venv/lib/python3.7/site-packages/tensorflow_core/python/ops/resource_variable_ops.py:1630: calling BaseResourceVariable.__init__ (from tensorflow.python.ops.resource_variable_ops) with constraint is deprecated and will be removed in a future version.\n",
      "Instructions for updating:\n",
      "If using Keras pass *_constraint arguments to layers.\n",
      "WARNING:tensorflow:From /Users/au554730/Desktop/Projects/clairvoyance/.venv/lib/python3.7/site-packages/tensorflow_core/python/keras/backend.py:3994: where (from tensorflow.python.ops.array_ops) is deprecated and will be removed in a future version.\n",
      "Instructions for updating:\n",
      "Use tf.where in 2.0, which has the same broadcast rule as np.where\n",
      "Train on 30 samples, validate on 7 samples\n",
      "Epoch 1/20\n"
     ]
    },
    {
     "name": "stderr",
     "output_type": "stream",
     "text": [
      "2021-12-17 15:27:34.179759: I tensorflow/core/platform/cpu_feature_guard.cc:142] Your CPU supports instructions that this TensorFlow binary was not compiled to use: AVX2 FMA\n",
      "2021-12-17 15:27:34.193377: I tensorflow/compiler/xla/service/service.cc:168] XLA service 0x7fe475e270d0 initialized for platform Host (this does not guarantee that XLA will be used). Devices:\n",
      "2021-12-17 15:27:34.193392: I tensorflow/compiler/xla/service/service.cc:176]   StreamExecutor device (0): Host, Default Version\n"
     ]
    },
    {
     "name": "stdout",
     "output_type": "stream",
     "text": [
      "30/30 [==============================] - 2s 56ms/sample - loss: -300.0001 - val_loss: -9744.3203\n",
      "Epoch 2/20\n",
      "30/30 [==============================] - 0s 2ms/sample - loss: -4519.6860 - val_loss: -17122.2500\n",
      "Epoch 3/20\n",
      "30/30 [==============================] - 0s 2ms/sample - loss: -8684.3936 - val_loss: -24242.1094\n",
      "Epoch 4/20\n",
      "30/30 [==============================] - 0s 2ms/sample - loss: -12715.9502 - val_loss: -31113.5840\n",
      "Epoch 5/20\n",
      "30/30 [==============================] - 0s 2ms/sample - loss: -16617.7305 - val_loss: -37737.0859\n",
      "Epoch 6/20\n",
      "30/30 [==============================] - 0s 2ms/sample - loss: -20395.2773 - val_loss: -44119.1484\n",
      "Epoch 7/20\n",
      "30/30 [==============================] - 0s 2ms/sample - loss: -24035.5273 - val_loss: -50223.0000\n",
      "Epoch 8/20\n",
      "30/30 [==============================] - 0s 2ms/sample - loss: -27517.4727 - val_loss: -55997.5820\n",
      "Epoch 9/20\n",
      "30/30 [==============================] - 0s 2ms/sample - loss: -30818.4609 - val_loss: -61384.3398\n",
      "Epoch 10/20\n",
      "30/30 [==============================] - 0s 2ms/sample - loss: -33917.6016 - val_loss: -66377.9453\n",
      "Epoch 11/20\n",
      "30/30 [==============================] - 0s 2ms/sample - loss: -36782.1953 - val_loss: -70915.4766\n",
      "Epoch 12/20\n",
      "30/30 [==============================] - 0s 2ms/sample - loss: -39384.3516 - val_loss: -75092.5938\n",
      "Epoch 13/20\n",
      "30/30 [==============================] - 0s 2ms/sample - loss: -41757.0234 - val_loss: -78918.5625\n",
      "Epoch 14/20\n",
      "30/30 [==============================] - 0s 2ms/sample - loss: -43910.0547 - val_loss: -82352.2969\n",
      "Epoch 15/20\n",
      "30/30 [==============================] - 0s 2ms/sample - loss: -45830.5391 - val_loss: -85405.2266\n",
      "Epoch 16/20\n",
      "30/30 [==============================] - 0s 2ms/sample - loss: -47521.0234 - val_loss: -88070.9141\n",
      "Epoch 17/20\n",
      "30/30 [==============================] - 0s 2ms/sample - loss: -48999.4609 - val_loss: -90355.0469\n",
      "Epoch 18/20\n",
      "30/30 [==============================] - 0s 2ms/sample - loss: -50274.1484 - val_loss: -92343.1094\n",
      "Epoch 19/20\n",
      "30/30 [==============================] - 0s 3ms/sample - loss: -51377.8711 - val_loss: -94049.6641\n",
      "Epoch 20/20\n",
      "30/30 [==============================] - 0s 2ms/sample - loss: -52330.9883 - val_loss: -95534.1172\n",
      "Finish predictor model training and testing.\n"
     ]
    }
   ],
   "source": [
    "from prediction import prediction\n",
    "\n",
    "# Set predictive model\n",
    "model_name = 'gru'\n",
    "\n",
    "# Set model parameters\n",
    "model_parameters = {'h_dim': 100,\n",
    "                    'n_layer': 2,\n",
    "                    'n_head': 2,\n",
    "                    'batch_size': 128,\n",
    "                    'epoch': 20,\n",
    "                    'model_type': model_name,\n",
    "                    'learning_rate': 0.001,\n",
    "                    'static_mode': 'Concatenate',\n",
    "                    'time_mode': 'Concatenate',\n",
    "                    'verbose': True}\n",
    "\n",
    "# Set up validation for early stopping and best model saving\n",
    "dataset_training.train_val_test_split(prob_val=0.2, prob_test = 0.0)\n",
    "\n",
    "# Train the predictive model\n",
    "pred_class = prediction(model_name, model_parameters, task)\n",
    "pred_class.fit(dataset_training)\n",
    "# Return the predictions on the testing set\n",
    "test_y_hat = pred_class.predict(dataset_testing)\n",
    "\n",
    "print('Finish predictor model training and testing.')"
   ]
  },
  {
   "cell_type": "markdown",
   "metadata": {},
   "source": [
    "## Step 7: Estimate uncertainty\n",
    "\n",
    "Estimate uncertainty of the predictor models and returns the uncertainty of the predictions (test_ci_hat).\n",
    "\n",
    "- uncertainty_parameters:\n",
    "  - uncertainty estimation model name (ensemble)"
   ]
  },
  {
   "cell_type": "code",
   "execution_count": 11,
   "metadata": {},
   "outputs": [
    {
     "name": "stdout",
     "output_type": "stream",
     "text": [
      "Train on 30 samples, validate on 7 samples\n",
      "Epoch 1/20\n",
      "30/30 [==============================] - 1s 45ms/sample - loss: -297.0078 - val_loss: -8500.6230\n",
      "Epoch 2/20\n",
      "30/30 [==============================] - 0s 1ms/sample - loss: -5156.0605 - val_loss: -17067.1367\n",
      "Epoch 3/20\n",
      "30/30 [==============================] - 0s 1ms/sample - loss: -9954.1816 - val_loss: -25310.0469\n",
      "Epoch 4/20\n",
      "30/30 [==============================] - 0s 1ms/sample - loss: -14585.2100 - val_loss: -33081.1445\n",
      "Epoch 5/20\n",
      "30/30 [==============================] - 0s 1ms/sample - loss: -18958.7969 - val_loss: -40185.7891\n",
      "Epoch 6/20\n",
      "30/30 [==============================] - 0s 1ms/sample - loss: -22903.3770 - val_loss: -46477.9062\n",
      "Epoch 7/20\n",
      "30/30 [==============================] - 0s 1ms/sample - loss: -26314.3887 - val_loss: -52024.4219\n",
      "Epoch 8/20\n",
      "30/30 [==============================] - 0s 1ms/sample - loss: -29287.6387 - val_loss: -56994.1016\n",
      "Epoch 9/20\n",
      "30/30 [==============================] - 0s 1ms/sample - loss: -31962.3281 - val_loss: -61531.7070\n",
      "Epoch 10/20\n",
      "30/30 [==============================] - 0s 1ms/sample - loss: -34426.6523 - val_loss: -65686.8906\n",
      "Epoch 11/20\n",
      "30/30 [==============================] - 0s 1ms/sample - loss: -36704.2617 - val_loss: -69461.7891\n",
      "Epoch 12/20\n",
      "30/30 [==============================] - 0s 1ms/sample - loss: -38790.9180 - val_loss: -72863.3594\n",
      "Epoch 13/20\n",
      "30/30 [==============================] - 0s 1ms/sample - loss: -40684.3633 - val_loss: -75919.5000\n",
      "Epoch 14/20\n",
      "30/30 [==============================] - 0s 1ms/sample - loss: -42392.0312 - val_loss: -78674.4453\n",
      "Epoch 15/20\n",
      "30/30 [==============================] - 0s 1ms/sample - loss: -43932.9648 - val_loss: -81178.1797\n",
      "Epoch 16/20\n",
      "30/30 [==============================] - 0s 1ms/sample - loss: -45330.6992 - val_loss: -83457.4297\n",
      "Epoch 17/20\n",
      "30/30 [==============================] - 0s 1ms/sample - loss: -46599.8672 - val_loss: -85547.4297\n",
      "Epoch 18/20\n",
      "30/30 [==============================] - 0s 1ms/sample - loss: -47763.0039 - val_loss: -87471.5469\n",
      "Epoch 19/20\n",
      "30/30 [==============================] - 0s 2ms/sample - loss: -48835.5352 - val_loss: -89252.9062\n",
      "Epoch 20/20\n",
      "30/30 [==============================] - 0s 1ms/sample - loss: -49825.7891 - val_loss: -90913.4062\n",
      "Train on 30 samples, validate on 7 samples\n",
      "Epoch 1/20\n",
      "30/30 [==============================] - 3s 93ms/sample - loss: -1259.4170 - val_loss: -5919.4517\n",
      "Epoch 2/20\n",
      "30/30 [==============================] - 0s 2ms/sample - loss: -3290.2542 - val_loss: -9641.9834\n",
      "Epoch 3/20\n",
      "30/30 [==============================] - 0s 2ms/sample - loss: -5341.6318 - val_loss: -13440.0566\n",
      "Epoch 4/20\n",
      "30/30 [==============================] - 0s 2ms/sample - loss: -7415.0415 - val_loss: -17261.9707\n",
      "Epoch 5/20\n",
      "30/30 [==============================] - 0s 2ms/sample - loss: -9513.1211 - val_loss: -21084.1152\n",
      "Epoch 6/20\n",
      "30/30 [==============================] - 0s 2ms/sample - loss: -11629.0127 - val_loss: -24884.3047\n",
      "Epoch 7/20\n",
      "30/30 [==============================] - 0s 2ms/sample - loss: -13753.6357 - val_loss: -28623.7266\n",
      "Epoch 8/20\n",
      "30/30 [==============================] - 0s 2ms/sample - loss: -15866.0723 - val_loss: -32265.8809\n",
      "Epoch 9/20\n",
      "30/30 [==============================] - 0s 2ms/sample - loss: -17943.0391 - val_loss: -35794.1055\n",
      "Epoch 10/20\n",
      "30/30 [==============================] - 0s 2ms/sample - loss: -19969.7207 - val_loss: -39234.9570\n",
      "Epoch 11/20\n",
      "30/30 [==============================] - 0s 2ms/sample - loss: -21945.1582 - val_loss: -42620.6992\n",
      "Epoch 12/20\n",
      "30/30 [==============================] - 0s 2ms/sample - loss: -23877.0938 - val_loss: -45986.3555\n",
      "Epoch 13/20\n",
      "30/30 [==============================] - 0s 2ms/sample - loss: -25785.8223 - val_loss: -49353.1133\n",
      "Epoch 14/20\n",
      "30/30 [==============================] - 0s 2ms/sample - loss: -27689.6758 - val_loss: -52758.5234\n",
      "Epoch 15/20\n",
      "30/30 [==============================] - 0s 2ms/sample - loss: -29604.8828 - val_loss: -56228.7852\n",
      "Epoch 16/20\n",
      "30/30 [==============================] - 0s 2ms/sample - loss: -31551.3730 - val_loss: -59793.9180\n",
      "Epoch 17/20\n",
      "30/30 [==============================] - 0s 2ms/sample - loss: -33539.8047 - val_loss: -63439.8945\n",
      "Epoch 18/20\n",
      "30/30 [==============================] - 0s 2ms/sample - loss: -35569.6367 - val_loss: -67132.8359\n",
      "Epoch 19/20\n",
      "30/30 [==============================] - 0s 2ms/sample - loss: -37639.0703 - val_loss: -70859.9531\n",
      "Epoch 20/20\n",
      "30/30 [==============================] - 0s 2ms/sample - loss: -39728.4883 - val_loss: -74533.9141\n",
      "Finish uncertainty estimation\n"
     ]
    }
   ],
   "source": [
    "from uncertainty import uncertainty\n",
    "\n",
    "# Set uncertainty model\n",
    "uncertainty_model_name = 'ensemble'\n",
    "\n",
    "# Train uncertainty model\n",
    "uncertainty_model = uncertainty(uncertainty_model_name, model_parameters, pred_class, task)\n",
    "uncertainty_model.fit(dataset_training)\n",
    "# Return uncertainty of the trained predictive model\n",
    "test_ci_hat = uncertainty_model.predict(dataset_testing)\n",
    "\n",
    "print('Finish uncertainty estimation')"
   ]
  },
  {
   "cell_type": "markdown",
   "metadata": {},
   "source": [
    "## Step 8: Interpret predictions.\n",
    "\n",
    "Interpret the trained predictor model and return the instance-wise feature and temporal importance.\n",
    "\n",
    "- interpretor_parameters:\n",
    "  - interpretation_model_name: interpretation model name (tinvase)"
   ]
  },
  {
   "cell_type": "code",
   "execution_count": 12,
   "metadata": {},
   "outputs": [
    {
     "name": "stdout",
     "output_type": "stream",
     "text": [
      "Train on 30 samples, validate on 7 samples\n",
      "Epoch 1/20\n",
      "30/30 [==============================] - 5s 178ms/sample - loss: 0.5665 - select_loss: 0.1199 - predict_loss: 0.5653 - val_loss: 0.3955 - val_select_loss: 0.2028 - val_predict_loss: 0.3934\n",
      "Epoch 2/20\n",
      "30/30 [==============================] - 0s 4ms/sample - loss: 0.4055 - select_loss: 0.2097 - predict_loss: 0.4034 - val_loss: 0.2528 - val_select_loss: 0.3000 - val_predict_loss: 0.2498\n",
      "Epoch 3/20\n",
      "30/30 [==============================] - 0s 4ms/sample - loss: 0.2566 - select_loss: 0.3029 - predict_loss: 0.2536 - val_loss: 0.1618 - val_select_loss: 0.3371 - val_predict_loss: 0.1584\n",
      "Epoch 4/20\n",
      "30/30 [==============================] - 0s 5ms/sample - loss: 0.1600 - select_loss: 0.3386 - predict_loss: 0.1566 - val_loss: 0.1039 - val_select_loss: 0.3513 - val_predict_loss: 0.1003\n",
      "Epoch 5/20\n",
      "30/30 [==============================] - 0s 4ms/sample - loss: 0.1004 - select_loss: 0.3520 - predict_loss: 0.0969 - val_loss: 0.0708 - val_select_loss: 0.3532 - val_predict_loss: 0.0672\n",
      "Epoch 6/20\n",
      "30/30 [==============================] - 0s 4ms/sample - loss: 0.0680 - select_loss: 0.3531 - predict_loss: 0.0645 - val_loss: 0.0533 - val_select_loss: 0.3536 - val_predict_loss: 0.0497\n",
      "Epoch 7/20\n",
      "30/30 [==============================] - 0s 5ms/sample - loss: 0.0518 - select_loss: 0.3530 - predict_loss: 0.0483 - val_loss: 0.0405 - val_select_loss: 0.3625 - val_predict_loss: 0.0369\n",
      "Epoch 8/20\n",
      "30/30 [==============================] - 0s 5ms/sample - loss: 0.0398 - select_loss: 0.3617 - predict_loss: 0.0362 - val_loss: 0.0317 - val_select_loss: 0.3754 - val_predict_loss: 0.0280\n",
      "Epoch 9/20\n",
      "30/30 [==============================] - 0s 4ms/sample - loss: 0.0313 - select_loss: 0.3746 - predict_loss: 0.0275 - val_loss: 0.0266 - val_select_loss: 0.3871 - val_predict_loss: 0.0227\n",
      "Epoch 10/20\n",
      "30/30 [==============================] - 0s 5ms/sample - loss: 0.0264 - select_loss: 0.3861 - predict_loss: 0.0225 - val_loss: 0.0232 - val_select_loss: 0.3968 - val_predict_loss: 0.0193\n",
      "Epoch 11/20\n",
      "30/30 [==============================] - 0s 5ms/sample - loss: 0.0232 - select_loss: 0.3957 - predict_loss: 0.0192 - val_loss: 0.0208 - val_select_loss: 0.4048 - val_predict_loss: 0.0168\n",
      "Epoch 12/20\n",
      "30/30 [==============================] - 0s 5ms/sample - loss: 0.0208 - select_loss: 0.4034 - predict_loss: 0.0168 - val_loss: 0.0190 - val_select_loss: 0.4111 - val_predict_loss: 0.0149\n",
      "Epoch 13/20\n",
      "30/30 [==============================] - 0s 4ms/sample - loss: 0.0190 - select_loss: 0.4095 - predict_loss: 0.0150 - val_loss: 0.0175 - val_select_loss: 0.4160 - val_predict_loss: 0.0134\n",
      "Epoch 14/20\n",
      "30/30 [==============================] - 0s 8ms/sample - loss: 0.0176 - select_loss: 0.4143 - predict_loss: 0.0135 - val_loss: 0.0163 - val_select_loss: 0.4198 - val_predict_loss: 0.0121\n",
      "Epoch 15/20\n",
      "30/30 [==============================] - 0s 5ms/sample - loss: 0.0164 - select_loss: 0.4178 - predict_loss: 0.0122 - val_loss: 0.0153 - val_select_loss: 0.4225 - val_predict_loss: 0.0111\n",
      "Epoch 16/20\n",
      "30/30 [==============================] - 0s 5ms/sample - loss: 0.0153 - select_loss: 0.4204 - predict_loss: 0.0111 - val_loss: 0.0144 - val_select_loss: 0.4243 - val_predict_loss: 0.0101\n",
      "Epoch 17/20\n",
      "30/30 [==============================] - 0s 5ms/sample - loss: 0.0144 - select_loss: 0.4222 - predict_loss: 0.0102 - val_loss: 0.0136 - val_select_loss: 0.4255 - val_predict_loss: 0.0093\n",
      "Epoch 18/20\n",
      "30/30 [==============================] - 0s 4ms/sample - loss: 0.0136 - select_loss: 0.4233 - predict_loss: 0.0094 - val_loss: 0.0129 - val_select_loss: 0.4261 - val_predict_loss: 0.0086\n",
      "Epoch 19/20\n",
      "30/30 [==============================] - 0s 4ms/sample - loss: 0.0129 - select_loss: 0.4238 - predict_loss: 0.0087 - val_loss: 0.0122 - val_select_loss: 0.4262 - val_predict_loss: 0.0079\n",
      "Epoch 20/20\n",
      "30/30 [==============================] - 0s 5ms/sample - loss: 0.0122 - select_loss: 0.4237 - predict_loss: 0.0080 - val_loss: 0.0116 - val_select_loss: 0.4257 - val_predict_loss: 0.0074\n",
      "Finish model interpretation\n"
     ]
    }
   ],
   "source": [
    "from interpretation import interpretation\n",
    "\n",
    "# Set interpretation model\n",
    "interpretation_model_name = 'tinvase'\n",
    "\n",
    "# Train interpretation model\n",
    "interpretor = interpretation(interpretation_model_name, model_parameters, pred_class, task)\n",
    "interpretor.fit(dataset_training)\n",
    "# Return instance-wise temporal and static feature importance\n",
    "test_s_hat = interpretor.predict(dataset_testing)\n",
    "\n",
    "print('Finish model interpretation')"
   ]
  },
  {
   "cell_type": "markdown",
   "metadata": {},
   "source": [
    "## Step 9: Visualize results\n",
    "\n",
    "(1) Visualize the performance of the trained model."
   ]
  },
  {
   "cell_type": "code",
   "execution_count": 13,
   "metadata": {},
   "outputs": [
    {
     "name": "stdout",
     "output_type": "stream",
     "text": [
      "Finish predictor model evaluation.\n",
      "Overall performance\n"
     ]
    },
    {
     "data": {
      "image/png": "[encoded data removed]",
      "text/plain": [
       "<Figure size 576x360 with 1 Axes>"
      ]
     },
     "metadata": {
      "needs_background": "light"
     },
     "output_type": "display_data"
    },
    {
     "data": {
      "text/plain": [
       "[<Figure size 576x360 with 1 Axes>]"
      ]
     },
     "execution_count": 13,
     "metadata": {},
     "output_type": "execute_result"
    }
   ],
   "source": [
    "from evaluation import Metrics\n",
    "from evaluation import print_performance\n",
    "\n",
    "# Evaluate predictor model\n",
    "result = Metrics(metric_sets, metric_parameters).evaluate(dataset_testing.label, test_y_hat)\n",
    "print('Finish predictor model evaluation.')\n",
    "\n",
    "print('Overall performance')\n",
    "print_performance(result, metric_sets, metric_parameters)"
   ]
  },
  {
   "cell_type": "markdown",
   "metadata": {},
   "source": [
    "## Step 9: Visualize results\n",
    "\n",
    "(2) Visualize the predictions of a certain patient by trained predictive model."
   ]
  },
  {
   "cell_type": "code",
   "execution_count": 14,
   "metadata": {},
   "outputs": [
    {
     "name": "stdout",
     "output_type": "stream",
     "text": [
      "Each prediction\n"
     ]
    },
    {
     "data": {
      "image/png": "[encoded data removed]",
      "text/plain": [
       "<Figure size 576x360 with 1 Axes>"
      ]
     },
     "metadata": {
      "needs_background": "light"
     },
     "output_type": "display_data"
    },
    {
     "data": {
      "text/plain": [
       "[<Figure size 576x360 with 1 Axes>]"
      ]
     },
     "execution_count": 14,
     "metadata": {},
     "output_type": "execute_result"
    }
   ],
   "source": [
    "from evaluation import print_prediction\n",
    "\n",
    "# Set the patient index for visualization\n",
    "index = [1]\n",
    "\n",
    "print('Each prediction')\n",
    "print_prediction(test_y_hat[index], metric_parameters)"
   ]
  },
  {
   "cell_type": "markdown",
   "metadata": {},
   "source": [
    "## Step 9: Visualize results\n",
    "\n",
    "(3) Visualize the uncertainty of a certain patient by trained predictive and uncertainty model."
   ]
  },
  {
   "cell_type": "code",
   "execution_count": 15,
   "metadata": {},
   "outputs": [
    {
     "name": "stdout",
     "output_type": "stream",
     "text": [
      "Uncertainty estimations\n"
     ]
    },
    {
     "data": {
      "image/png": "[encoded data removed]",
      "text/plain": [
       "<Figure size 576x360 with 1 Axes>"
      ]
     },
     "metadata": {
      "needs_background": "light"
     },
     "output_type": "display_data"
    },
    {
     "data": {
      "text/plain": [
       "[<Figure size 576x360 with 1 Axes>]"
      ]
     },
     "execution_count": 15,
     "metadata": {},
     "output_type": "execute_result"
    }
   ],
   "source": [
    "from evaluation import print_uncertainty\n",
    "\n",
    "print('Uncertainty estimations')\n",
    "print_uncertainty (test_y_hat[index], test_ci_hat[index], metric_parameters)"
   ]
  },
  {
   "cell_type": "markdown",
   "metadata": {},
   "source": [
    "## Step 9: Visualize results\n",
    "\n",
    "(4) Visualize the interpretation of a certain patient prediction."
   ]
  },
  {
   "cell_type": "code",
   "execution_count": 16,
   "metadata": {},
   "outputs": [
    {
     "name": "stdout",
     "output_type": "stream",
     "text": [
      "Model interpretation\n"
     ]
    },
    {
     "data": {
      "image/png": "[encoded data removed]",
      "text/plain": [
       "<Figure size 576x720 with 2 Axes>"
      ]
     },
     "metadata": {
      "needs_background": "light"
     },
     "output_type": "display_data"
    },
    {
     "data": {
      "text/plain": [
       "[<Figure size 576x720 with 2 Axes>]"
      ]
     },
     "execution_count": 16,
     "metadata": {},
     "output_type": "execute_result"
    }
   ],
   "source": [
    "from evaluation import print_interpretation\n",
    "\n",
    "print('Model interpretation')\n",
    "print_interpretation (test_s_hat[index], dataset_training.feature_name, metric_parameters, model_parameters)"
   ]
  },
  {
   "cell_type": "code",
   "execution_count": null,
   "metadata": {},
   "outputs": [],
   "source": []
  }
 ],
 "metadata": {
  "kernelspec": {
   "display_name": "Python 3 (ipykernel)",
   "language": "python",
   "name": "python3"
  },
  "language_info": {
   "codemirror_mode": {
    "name": "ipython",
    "version": 3
   },
   "file_extension": ".py",
   "mimetype": "text/x-python",
   "name": "python",
   "nbconvert_exporter": "python",
   "pygments_lexer": "ipython3",
   "version": "3.7.12"
  }
 },
 "nbformat": 4,
 "nbformat_minor": 4
}
