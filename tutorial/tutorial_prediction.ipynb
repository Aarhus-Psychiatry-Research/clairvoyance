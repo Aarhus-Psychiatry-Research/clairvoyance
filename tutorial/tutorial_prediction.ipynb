{
 "cells": [
  {
   "cell_type": "markdown",
   "metadata": {},
   "source": [
    "<img src=\"figure/clairvoyance_logo.png\">\n",
    "\n",
    "# Clairvoyance: Time-series prediction\n",
    "\n",
    "## ML-AIM (http://vanderschaar-lab.com/)\n",
    "\n",
    "This notebook describes the user-guide of a time-series predictions application using Clairvoyance framework. Time-series prediction is defined as following: utilize both static and temporal features to predict certain labels in the future. For instance, using the temporal data (vitals, lab tests) and static data (demographic information), we predict 'whether the patient will die at the end of hospital stay' or 'whether the patient will get ventilator after 4 hours'. \n",
    "- One-shot prediction: Predict the patient state at the end of the time-series at certain time point.\n",
    "  - Example: Predict patient mortality (at the end of the hospital stays) after 24 hours from the admission.\n",
    "- Rolling window (online) prediction:\n",
    "  - Example: Predict ventilator after 24 hours from the current time point.\n",
    " \n",
    "<img src=\"figure/time-series-prediction-definition.png\">\n",
    "\n",
    "To run this tutorial, you need:\n",
    "### Temporal and static datasets for training and testing\n",
    "\n",
    "If users come with their own temporal and static datasets for training and testing, the users should save those files as 'data_name_temporal_train_data_eav.csv.gz', 'data_name_static_train_data.csv.gz', 'data_name_temporal_test_data_eav.csv.gz', 'data_name_static_test_data.csv.gz' in '../datasets/data/data_name/' directory.\n",
    "\n",
    "\n",
    "### Prerequisite\n",
    "Clone https://github.com/jsyoon0823/time-series-automl.git to the current directory."
   ]
  },
  {
   "cell_type": "markdown",
   "metadata": {},
   "source": [
    "## Time-series prediction pipeline summary\n",
    "\n",
    "<img src=\"figure/time-series-prediction-block-diagram.png\">\n",
    "\n",
    "### Step 1: Load dataset\n",
    "  - Extract csv files from the original raw datasets in ../datasets/data/data_name/ directory.  \n",
    "  \n",
    "### Step 2: Preprocess dataset\n",
    "  - Preprocessing the raw data using various filters such as (1) replacing negative values to NaN, (2) do one-hot encidng for certain features, (3) do normalization.  \n",
    "  \n",
    "### Step 3: Define problem\n",
    "  - Set the time-series prediction problem that we want to solve. Set the problem (whether it is one-shot or online prediction), set the label, set the maximum sequence length, and set the treatment features. We also define the metric for evaluation and the task itself (whether classification or regression).\n",
    "\n",
    "### Step 4: Impute dataset\n",
    "  - Impute missing values in the preprocessed static and temporal datasets and return complete datasets.\n",
    "  \n",
    "### Step 5: Feature selection\n",
    "  - Select the relevant static and temporal features to the labels. You can skip the feature selection (set feature selection method = None).\n",
    "  \n",
    "### Step 6: Time-series model fit and predict\n",
    "  - After finishing the data preparation, we define the predictive models and train the model using the training dataset. After training, we use the trained model to predict the labels of the testing dataset.\n",
    "  \n",
    "### Step 7: Estimate uncertainty\n",
    "  - Estimate uncertainty of the predictor models and returns the uncertainty of the predictions.\n",
    "\n",
    "### Step 8: Interpret predictions\n",
    "  - Interpret the trained predictor model and return the instance-wise feature and temporal importance.\n",
    "\n",
    "### Step 9: Visualize results\n",
    "  - Visualize the various results such as performance, predictions, uncertainties, and interpretations."
   ]
  },
  {
   "cell_type": "markdown",
   "metadata": {},
   "source": []
  },
  {
   "cell_type": "markdown",
   "metadata": {},
   "source": [
    "## Step 0: Import necessary packages\n",
    "\n",
    "Import necessary packages for the entire tutorials."
   ]
  },
  {
   "cell_type": "code",
   "execution_count": 35,
   "metadata": {},
   "outputs": [],
   "source": [
    "# Necessary packages\n",
    "# from __future__ import absolute_importb\n",
    "from __future__ import division\n",
    "from __future__ import print_function\n",
    "\n",
    "import numpy as np\n",
    "import warnings\n",
    "warnings.filterwarnings('ignore')\n",
    "import sys\n",
    "sys.path.append('../')"
   ]
  },
  {
   "cell_type": "code",
   "execution_count": 36,
   "metadata": {},
   "outputs": [],
   "source": [
    "from utils import PipelineComposer"
   ]
  },
  {
   "cell_type": "markdown",
   "metadata": {},
   "source": [
    "## Step 1: Load dataset\n",
    "\n",
    "Extract temporal and static datasets from 'data_name_temporal_train_data_eav.csv.gz', 'data_name_static_train_data.csv.gz', 'data_name_temporal_test_data_eav.csv.gz', 'data_name_static_test_data.csv.gz' in '../datasets/data/data_name/' directory.\n",
    "\n",
    "- CSVLoader: Load csv files from the original raw datasets in ../datasets/data/data_name/ directory.\n",
    "- file_names: mimic in this tutorial."
   ]
  },
  {
   "cell_type": "code",
   "execution_count": 37,
   "metadata": {},
   "outputs": [
    {
     "name": "stdout",
     "output_type": "stream",
     "text": [
      "Finish data loading.\n"
     ]
    }
   ],
   "source": [
    "from datasets import CSVLoader\n",
    "\n",
    "# Define data name\n",
    "data_name = \"practice\"\n",
    "# Define data dictionary\n",
    "data_directory = \"../datasets/data/practice/\"\n",
    "\n",
    "# Load train and test datasets\n",
    "data_loader_training = CSVLoader(\n",
    "    static_file=data_directory + \"train_static.csv\", temporal_file=data_directory + \"train_temporal.csv\"\n",
    ")\n",
    "\n",
    "data_loader_testing = CSVLoader(\n",
    "    static_file=data_directory + \"test_static.csv\", temporal_file=data_directory + \"test_temporal.csv\"\n",
    ")\n",
    "\n",
    "dataset_training = data_loader_training.load()\n",
    "dataset_testing = data_loader_testing.load()\n",
    "\n",
    "print(\"Finish data loading.\")"
   ]
  },
  {
   "cell_type": "code",
   "execution_count": 38,
   "metadata": {},
   "outputs": [
    {
     "data": {
      "text/html": [
       "<div>\n",
       "<style scoped>\n",
       "    .dataframe tbody tr th:only-of-type {\n",
       "        vertical-align: middle;\n",
       "    }\n",
       "\n",
       "    .dataframe tbody tr th {\n",
       "        vertical-align: top;\n",
       "    }\n",
       "\n",
       "    .dataframe thead th {\n",
       "        text-align: right;\n",
       "    }\n",
       "</style>\n",
       "<table border=\"1\" class=\"dataframe\">\n",
       "  <thead>\n",
       "    <tr style=\"text-align: right;\">\n",
       "      <th>variable</th>\n",
       "      <th>id</th>\n",
       "      <th>time</th>\n",
       "      <th>above_15k_sales</th>\n",
       "      <th>automotive_sales</th>\n",
       "      <th>baby_care_sales</th>\n",
       "      <th>beauty_sales</th>\n",
       "      <th>beverages_sales</th>\n",
       "      <th>books_sales</th>\n",
       "      <th>bread/bakery_sales</th>\n",
       "      <th>celebration_sales</th>\n",
       "      <th>...</th>\n",
       "      <th>meats_sales</th>\n",
       "      <th>personal_care_sales</th>\n",
       "      <th>pet_supplies_sales</th>\n",
       "      <th>players_and_electronics_sales</th>\n",
       "      <th>poultry_sales</th>\n",
       "      <th>prepared_foods_sales</th>\n",
       "      <th>produce_sales</th>\n",
       "      <th>school_and_office_supplies_sales</th>\n",
       "      <th>seafood_sales</th>\n",
       "      <th>total_sales</th>\n",
       "    </tr>\n",
       "  </thead>\n",
       "  <tbody>\n",
       "    <tr>\n",
       "      <td>0</td>\n",
       "      <td>2</td>\n",
       "      <td>0</td>\n",
       "      <td>0.0</td>\n",
       "      <td>0.0</td>\n",
       "      <td>0.0</td>\n",
       "      <td>0.0</td>\n",
       "      <td>0.0</td>\n",
       "      <td>0.0</td>\n",
       "      <td>0.000</td>\n",
       "      <td>0.0</td>\n",
       "      <td>...</td>\n",
       "      <td>0.000</td>\n",
       "      <td>0.0</td>\n",
       "      <td>0.0</td>\n",
       "      <td>0.0</td>\n",
       "      <td>0.00000</td>\n",
       "      <td>0.000</td>\n",
       "      <td>0.0</td>\n",
       "      <td>0.0</td>\n",
       "      <td>0.000000</td>\n",
       "      <td>0.000000</td>\n",
       "    </tr>\n",
       "    <tr>\n",
       "      <td>1</td>\n",
       "      <td>2</td>\n",
       "      <td>1</td>\n",
       "      <td>0.0</td>\n",
       "      <td>8.0</td>\n",
       "      <td>0.0</td>\n",
       "      <td>3.0</td>\n",
       "      <td>1481.0</td>\n",
       "      <td>0.0</td>\n",
       "      <td>523.882</td>\n",
       "      <td>0.0</td>\n",
       "      <td>...</td>\n",
       "      <td>655.626</td>\n",
       "      <td>333.0</td>\n",
       "      <td>0.0</td>\n",
       "      <td>0.0</td>\n",
       "      <td>342.50598</td>\n",
       "      <td>127.357</td>\n",
       "      <td>0.0</td>\n",
       "      <td>0.0</td>\n",
       "      <td>31.373001</td>\n",
       "      <td>10266.718981</td>\n",
       "    </tr>\n",
       "    <tr>\n",
       "      <td>2</td>\n",
       "      <td>2</td>\n",
       "      <td>2</td>\n",
       "      <td>0.0</td>\n",
       "      <td>5.0</td>\n",
       "      <td>0.0</td>\n",
       "      <td>2.0</td>\n",
       "      <td>1016.0</td>\n",
       "      <td>0.0</td>\n",
       "      <td>321.693</td>\n",
       "      <td>0.0</td>\n",
       "      <td>...</td>\n",
       "      <td>597.745</td>\n",
       "      <td>236.0</td>\n",
       "      <td>0.0</td>\n",
       "      <td>0.0</td>\n",
       "      <td>317.65200</td>\n",
       "      <td>92.043</td>\n",
       "      <td>0.0</td>\n",
       "      <td>0.0</td>\n",
       "      <td>34.343000</td>\n",
       "      <td>7612.540000</td>\n",
       "    </tr>\n",
       "    <tr>\n",
       "      <td>3</td>\n",
       "      <td>2</td>\n",
       "      <td>3</td>\n",
       "      <td>0.0</td>\n",
       "      <td>3.0</td>\n",
       "      <td>0.0</td>\n",
       "      <td>3.0</td>\n",
       "      <td>1146.0</td>\n",
       "      <td>0.0</td>\n",
       "      <td>299.012</td>\n",
       "      <td>0.0</td>\n",
       "      <td>...</td>\n",
       "      <td>689.216</td>\n",
       "      <td>188.0</td>\n",
       "      <td>0.0</td>\n",
       "      <td>0.0</td>\n",
       "      <td>305.01900</td>\n",
       "      <td>78.303</td>\n",
       "      <td>0.0</td>\n",
       "      <td>0.0</td>\n",
       "      <td>49.833000</td>\n",
       "      <td>7526.377000</td>\n",
       "    </tr>\n",
       "    <tr>\n",
       "      <td>4</td>\n",
       "      <td>2</td>\n",
       "      <td>4</td>\n",
       "      <td>0.0</td>\n",
       "      <td>5.0</td>\n",
       "      <td>0.0</td>\n",
       "      <td>9.0</td>\n",
       "      <td>1581.0</td>\n",
       "      <td>0.0</td>\n",
       "      <td>385.333</td>\n",
       "      <td>0.0</td>\n",
       "      <td>...</td>\n",
       "      <td>578.157</td>\n",
       "      <td>245.0</td>\n",
       "      <td>0.0</td>\n",
       "      <td>0.0</td>\n",
       "      <td>383.70000</td>\n",
       "      <td>82.112</td>\n",
       "      <td>0.0</td>\n",
       "      <td>0.0</td>\n",
       "      <td>43.962000</td>\n",
       "      <td>9539.566000</td>\n",
       "    </tr>\n",
       "  </tbody>\n",
       "</table>\n",
       "<p>5 rows × 37 columns</p>\n",
       "</div>"
      ],
      "text/plain": [
       "variable  id  time  above_15k_sales  automotive_sales  baby_care_sales  \\\n",
       "0          2     0              0.0               0.0              0.0   \n",
       "1          2     1              0.0               8.0              0.0   \n",
       "2          2     2              0.0               5.0              0.0   \n",
       "3          2     3              0.0               3.0              0.0   \n",
       "4          2     4              0.0               5.0              0.0   \n",
       "\n",
       "variable  beauty_sales  beverages_sales  books_sales  bread/bakery_sales  \\\n",
       "0                  0.0              0.0          0.0               0.000   \n",
       "1                  3.0           1481.0          0.0             523.882   \n",
       "2                  2.0           1016.0          0.0             321.693   \n",
       "3                  3.0           1146.0          0.0             299.012   \n",
       "4                  9.0           1581.0          0.0             385.333   \n",
       "\n",
       "variable  celebration_sales  ...  meats_sales  personal_care_sales  \\\n",
       "0                       0.0  ...        0.000                  0.0   \n",
       "1                       0.0  ...      655.626                333.0   \n",
       "2                       0.0  ...      597.745                236.0   \n",
       "3                       0.0  ...      689.216                188.0   \n",
       "4                       0.0  ...      578.157                245.0   \n",
       "\n",
       "variable  pet_supplies_sales  players_and_electronics_sales  poultry_sales  \\\n",
       "0                        0.0                            0.0        0.00000   \n",
       "1                        0.0                            0.0      342.50598   \n",
       "2                        0.0                            0.0      317.65200   \n",
       "3                        0.0                            0.0      305.01900   \n",
       "4                        0.0                            0.0      383.70000   \n",
       "\n",
       "variable  prepared_foods_sales  produce_sales  \\\n",
       "0                        0.000            0.0   \n",
       "1                      127.357            0.0   \n",
       "2                       92.043            0.0   \n",
       "3                       78.303            0.0   \n",
       "4                       82.112            0.0   \n",
       "\n",
       "variable  school_and_office_supplies_sales  seafood_sales   total_sales  \n",
       "0                                      0.0       0.000000      0.000000  \n",
       "1                                      0.0      31.373001  10266.718981  \n",
       "2                                      0.0      34.343000   7612.540000  \n",
       "3                                      0.0      49.833000   7526.377000  \n",
       "4                                      0.0      43.962000   9539.566000  \n",
       "\n",
       "[5 rows x 37 columns]"
      ]
     },
     "execution_count": 38,
     "metadata": {},
     "output_type": "execute_result"
    }
   ],
   "source": [
    "dataset_training.temporal_data.head()"
   ]
  },
  {
   "cell_type": "markdown",
   "metadata": {},
   "source": [
    "## Step 2: Preprocess dataset\n",
    "\n",
    "Preprocess the raw data using multiple filters. In this tutorial, we replace all the negative values to NaN (using NegativeFilter), do one-hot encoding on 'admission_type' feature (using OneHotEncoder), and do MinMax Normalization (using Normalization). Preprocessing is done for both training and testing datasets. \n",
    "  - NegativeFilter: Replace negative values to NaN\n",
    "  - OneHotEncoder: One hot encoding certain features\n",
    "    - one_hot_encoding: input features that need to be one-hot encoded\n",
    "  - Normalization (3 options): MinMax, Standard, None"
   ]
  },
  {
   "cell_type": "code",
   "execution_count": 39,
   "metadata": {},
   "outputs": [
    {
     "name": "stdout",
     "output_type": "stream",
     "text": [
      "Finish preprocessing.\n"
     ]
    }
   ],
   "source": [
    "from preprocessing import OneHotEncoder\n",
    "\n",
    "# (2) one-hot encode categorical features\n",
    "one_hot_encoding = [\"city\", \"state\", \"type\", \"family\"]\n",
    "onehot_encoder = OneHotEncoder(one_hot_encoding_features=one_hot_encoding)\n",
    "\n",
    "# Data preprocessing\n",
    "filter_pipeline = PipelineComposer(onehot_encoder)\n",
    "\n",
    "dataset_training = filter_pipeline.fit_transform(dataset_training)\n",
    "dataset_testing = filter_pipeline.transform(dataset_testing)\n",
    "\n",
    "print(\"Finish preprocessing.\")"
   ]
  },
  {
   "cell_type": "code",
   "execution_count": 40,
   "metadata": {},
   "outputs": [
    {
     "data": {
      "text/html": [
       "<div>\n",
       "<style scoped>\n",
       "    .dataframe tbody tr th:only-of-type {\n",
       "        vertical-align: middle;\n",
       "    }\n",
       "\n",
       "    .dataframe tbody tr th {\n",
       "        vertical-align: top;\n",
       "    }\n",
       "\n",
       "    .dataframe thead th {\n",
       "        text-align: right;\n",
       "    }\n",
       "</style>\n",
       "<table border=\"1\" class=\"dataframe\">\n",
       "  <thead>\n",
       "    <tr style=\"text-align: right;\">\n",
       "      <th>variable</th>\n",
       "      <th>id</th>\n",
       "      <th>time</th>\n",
       "      <th>above_15k_sales</th>\n",
       "      <th>automotive_sales</th>\n",
       "      <th>baby_care_sales</th>\n",
       "      <th>beauty_sales</th>\n",
       "      <th>beverages_sales</th>\n",
       "      <th>books_sales</th>\n",
       "      <th>bread/bakery_sales</th>\n",
       "      <th>celebration_sales</th>\n",
       "      <th>...</th>\n",
       "      <th>meats_sales</th>\n",
       "      <th>personal_care_sales</th>\n",
       "      <th>pet_supplies_sales</th>\n",
       "      <th>players_and_electronics_sales</th>\n",
       "      <th>poultry_sales</th>\n",
       "      <th>prepared_foods_sales</th>\n",
       "      <th>produce_sales</th>\n",
       "      <th>school_and_office_supplies_sales</th>\n",
       "      <th>seafood_sales</th>\n",
       "      <th>total_sales</th>\n",
       "    </tr>\n",
       "  </thead>\n",
       "  <tbody>\n",
       "    <tr>\n",
       "      <td>0</td>\n",
       "      <td>2</td>\n",
       "      <td>0</td>\n",
       "      <td>0.0</td>\n",
       "      <td>0.0</td>\n",
       "      <td>0.0</td>\n",
       "      <td>0.0</td>\n",
       "      <td>0.0</td>\n",
       "      <td>0.0</td>\n",
       "      <td>0.000</td>\n",
       "      <td>0.0</td>\n",
       "      <td>...</td>\n",
       "      <td>0.000</td>\n",
       "      <td>0.0</td>\n",
       "      <td>0.0</td>\n",
       "      <td>0.0</td>\n",
       "      <td>0.00000</td>\n",
       "      <td>0.00000</td>\n",
       "      <td>0.0000</td>\n",
       "      <td>0.0</td>\n",
       "      <td>0.000000</td>\n",
       "      <td>0.000000</td>\n",
       "    </tr>\n",
       "    <tr>\n",
       "      <td>1</td>\n",
       "      <td>2</td>\n",
       "      <td>1</td>\n",
       "      <td>0.0</td>\n",
       "      <td>8.0</td>\n",
       "      <td>0.0</td>\n",
       "      <td>3.0</td>\n",
       "      <td>1481.0</td>\n",
       "      <td>0.0</td>\n",
       "      <td>523.882</td>\n",
       "      <td>0.0</td>\n",
       "      <td>...</td>\n",
       "      <td>655.626</td>\n",
       "      <td>333.0</td>\n",
       "      <td>0.0</td>\n",
       "      <td>0.0</td>\n",
       "      <td>342.50598</td>\n",
       "      <td>127.35700</td>\n",
       "      <td>0.0000</td>\n",
       "      <td>0.0</td>\n",
       "      <td>31.373001</td>\n",
       "      <td>10266.718981</td>\n",
       "    </tr>\n",
       "    <tr>\n",
       "      <td>2</td>\n",
       "      <td>2</td>\n",
       "      <td>2</td>\n",
       "      <td>0.0</td>\n",
       "      <td>5.0</td>\n",
       "      <td>0.0</td>\n",
       "      <td>2.0</td>\n",
       "      <td>1016.0</td>\n",
       "      <td>0.0</td>\n",
       "      <td>321.693</td>\n",
       "      <td>0.0</td>\n",
       "      <td>...</td>\n",
       "      <td>597.745</td>\n",
       "      <td>236.0</td>\n",
       "      <td>0.0</td>\n",
       "      <td>0.0</td>\n",
       "      <td>317.65200</td>\n",
       "      <td>92.04300</td>\n",
       "      <td>0.0000</td>\n",
       "      <td>0.0</td>\n",
       "      <td>34.343000</td>\n",
       "      <td>7612.540000</td>\n",
       "    </tr>\n",
       "    <tr>\n",
       "      <td>3</td>\n",
       "      <td>2</td>\n",
       "      <td>3</td>\n",
       "      <td>0.0</td>\n",
       "      <td>3.0</td>\n",
       "      <td>0.0</td>\n",
       "      <td>3.0</td>\n",
       "      <td>1146.0</td>\n",
       "      <td>0.0</td>\n",
       "      <td>299.012</td>\n",
       "      <td>0.0</td>\n",
       "      <td>...</td>\n",
       "      <td>689.216</td>\n",
       "      <td>188.0</td>\n",
       "      <td>0.0</td>\n",
       "      <td>0.0</td>\n",
       "      <td>305.01900</td>\n",
       "      <td>78.30300</td>\n",
       "      <td>0.0000</td>\n",
       "      <td>0.0</td>\n",
       "      <td>49.833000</td>\n",
       "      <td>7526.377000</td>\n",
       "    </tr>\n",
       "    <tr>\n",
       "      <td>4</td>\n",
       "      <td>2</td>\n",
       "      <td>4</td>\n",
       "      <td>0.0</td>\n",
       "      <td>5.0</td>\n",
       "      <td>0.0</td>\n",
       "      <td>9.0</td>\n",
       "      <td>1581.0</td>\n",
       "      <td>0.0</td>\n",
       "      <td>385.333</td>\n",
       "      <td>0.0</td>\n",
       "      <td>...</td>\n",
       "      <td>578.157</td>\n",
       "      <td>245.0</td>\n",
       "      <td>0.0</td>\n",
       "      <td>0.0</td>\n",
       "      <td>383.70000</td>\n",
       "      <td>82.11200</td>\n",
       "      <td>0.0000</td>\n",
       "      <td>0.0</td>\n",
       "      <td>43.962000</td>\n",
       "      <td>9539.566000</td>\n",
       "    </tr>\n",
       "    <tr>\n",
       "      <td>...</td>\n",
       "      <td>...</td>\n",
       "      <td>...</td>\n",
       "      <td>...</td>\n",
       "      <td>...</td>\n",
       "      <td>...</td>\n",
       "      <td>...</td>\n",
       "      <td>...</td>\n",
       "      <td>...</td>\n",
       "      <td>...</td>\n",
       "      <td>...</td>\n",
       "      <td>...</td>\n",
       "      <td>...</td>\n",
       "      <td>...</td>\n",
       "      <td>...</td>\n",
       "      <td>...</td>\n",
       "      <td>...</td>\n",
       "      <td>...</td>\n",
       "      <td>...</td>\n",
       "      <td>...</td>\n",
       "      <td>...</td>\n",
       "      <td>...</td>\n",
       "    </tr>\n",
       "    <tr>\n",
       "      <td>995</td>\n",
       "      <td>2</td>\n",
       "      <td>997</td>\n",
       "      <td>0.0</td>\n",
       "      <td>12.0</td>\n",
       "      <td>0.0</td>\n",
       "      <td>3.0</td>\n",
       "      <td>3085.0</td>\n",
       "      <td>0.0</td>\n",
       "      <td>664.599</td>\n",
       "      <td>16.0</td>\n",
       "      <td>...</td>\n",
       "      <td>628.197</td>\n",
       "      <td>244.0</td>\n",
       "      <td>8.0</td>\n",
       "      <td>14.0</td>\n",
       "      <td>592.17700</td>\n",
       "      <td>127.03900</td>\n",
       "      <td>2117.1490</td>\n",
       "      <td>0.0</td>\n",
       "      <td>55.082000</td>\n",
       "      <td>14126.552000</td>\n",
       "    </tr>\n",
       "    <tr>\n",
       "      <td>996</td>\n",
       "      <td>2</td>\n",
       "      <td>998</td>\n",
       "      <td>1.0</td>\n",
       "      <td>6.0</td>\n",
       "      <td>0.0</td>\n",
       "      <td>4.0</td>\n",
       "      <td>4228.0</td>\n",
       "      <td>0.0</td>\n",
       "      <td>808.000</td>\n",
       "      <td>10.0</td>\n",
       "      <td>...</td>\n",
       "      <td>517.559</td>\n",
       "      <td>332.0</td>\n",
       "      <td>8.0</td>\n",
       "      <td>9.0</td>\n",
       "      <td>573.11700</td>\n",
       "      <td>186.64300</td>\n",
       "      <td>3141.8990</td>\n",
       "      <td>0.0</td>\n",
       "      <td>50.721000</td>\n",
       "      <td>18260.331000</td>\n",
       "    </tr>\n",
       "    <tr>\n",
       "      <td>997</td>\n",
       "      <td>2</td>\n",
       "      <td>999</td>\n",
       "      <td>1.0</td>\n",
       "      <td>7.0</td>\n",
       "      <td>0.0</td>\n",
       "      <td>10.0</td>\n",
       "      <td>5373.0</td>\n",
       "      <td>0.0</td>\n",
       "      <td>883.271</td>\n",
       "      <td>9.0</td>\n",
       "      <td>...</td>\n",
       "      <td>419.281</td>\n",
       "      <td>406.0</td>\n",
       "      <td>4.0</td>\n",
       "      <td>8.0</td>\n",
       "      <td>605.93800</td>\n",
       "      <td>204.58301</td>\n",
       "      <td>3469.6260</td>\n",
       "      <td>0.0</td>\n",
       "      <td>45.368000</td>\n",
       "      <td>20693.301010</td>\n",
       "    </tr>\n",
       "    <tr>\n",
       "      <td>998</td>\n",
       "      <td>2</td>\n",
       "      <td>1000</td>\n",
       "      <td>0.0</td>\n",
       "      <td>5.0</td>\n",
       "      <td>0.0</td>\n",
       "      <td>2.0</td>\n",
       "      <td>2986.0</td>\n",
       "      <td>0.0</td>\n",
       "      <td>636.000</td>\n",
       "      <td>7.0</td>\n",
       "      <td>...</td>\n",
       "      <td>364.668</td>\n",
       "      <td>219.0</td>\n",
       "      <td>11.0</td>\n",
       "      <td>7.0</td>\n",
       "      <td>439.32700</td>\n",
       "      <td>79.14700</td>\n",
       "      <td>2207.6200</td>\n",
       "      <td>0.0</td>\n",
       "      <td>23.197000</td>\n",
       "      <td>12586.234000</td>\n",
       "    </tr>\n",
       "    <tr>\n",
       "      <td>999</td>\n",
       "      <td>2</td>\n",
       "      <td>1001</td>\n",
       "      <td>0.0</td>\n",
       "      <td>2.0</td>\n",
       "      <td>0.0</td>\n",
       "      <td>2.0</td>\n",
       "      <td>2687.0</td>\n",
       "      <td>0.0</td>\n",
       "      <td>601.278</td>\n",
       "      <td>9.0</td>\n",
       "      <td>...</td>\n",
       "      <td>325.142</td>\n",
       "      <td>233.0</td>\n",
       "      <td>7.0</td>\n",
       "      <td>4.0</td>\n",
       "      <td>443.60800</td>\n",
       "      <td>74.40300</td>\n",
       "      <td>2195.5261</td>\n",
       "      <td>1.0</td>\n",
       "      <td>44.753000</td>\n",
       "      <td>12392.605100</td>\n",
       "    </tr>\n",
       "  </tbody>\n",
       "</table>\n",
       "<p>1000 rows × 37 columns</p>\n",
       "</div>"
      ],
      "text/plain": [
       "variable  id  time  above_15k_sales  automotive_sales  baby_care_sales  \\\n",
       "0          2     0              0.0               0.0              0.0   \n",
       "1          2     1              0.0               8.0              0.0   \n",
       "2          2     2              0.0               5.0              0.0   \n",
       "3          2     3              0.0               3.0              0.0   \n",
       "4          2     4              0.0               5.0              0.0   \n",
       "..        ..   ...              ...               ...              ...   \n",
       "995        2   997              0.0              12.0              0.0   \n",
       "996        2   998              1.0               6.0              0.0   \n",
       "997        2   999              1.0               7.0              0.0   \n",
       "998        2  1000              0.0               5.0              0.0   \n",
       "999        2  1001              0.0               2.0              0.0   \n",
       "\n",
       "variable  beauty_sales  beverages_sales  books_sales  bread/bakery_sales  \\\n",
       "0                  0.0              0.0          0.0               0.000   \n",
       "1                  3.0           1481.0          0.0             523.882   \n",
       "2                  2.0           1016.0          0.0             321.693   \n",
       "3                  3.0           1146.0          0.0             299.012   \n",
       "4                  9.0           1581.0          0.0             385.333   \n",
       "..                 ...              ...          ...                 ...   \n",
       "995                3.0           3085.0          0.0             664.599   \n",
       "996                4.0           4228.0          0.0             808.000   \n",
       "997               10.0           5373.0          0.0             883.271   \n",
       "998                2.0           2986.0          0.0             636.000   \n",
       "999                2.0           2687.0          0.0             601.278   \n",
       "\n",
       "variable  celebration_sales  ...  meats_sales  personal_care_sales  \\\n",
       "0                       0.0  ...        0.000                  0.0   \n",
       "1                       0.0  ...      655.626                333.0   \n",
       "2                       0.0  ...      597.745                236.0   \n",
       "3                       0.0  ...      689.216                188.0   \n",
       "4                       0.0  ...      578.157                245.0   \n",
       "..                      ...  ...          ...                  ...   \n",
       "995                    16.0  ...      628.197                244.0   \n",
       "996                    10.0  ...      517.559                332.0   \n",
       "997                     9.0  ...      419.281                406.0   \n",
       "998                     7.0  ...      364.668                219.0   \n",
       "999                     9.0  ...      325.142                233.0   \n",
       "\n",
       "variable  pet_supplies_sales  players_and_electronics_sales  poultry_sales  \\\n",
       "0                        0.0                            0.0        0.00000   \n",
       "1                        0.0                            0.0      342.50598   \n",
       "2                        0.0                            0.0      317.65200   \n",
       "3                        0.0                            0.0      305.01900   \n",
       "4                        0.0                            0.0      383.70000   \n",
       "..                       ...                            ...            ...   \n",
       "995                      8.0                           14.0      592.17700   \n",
       "996                      8.0                            9.0      573.11700   \n",
       "997                      4.0                            8.0      605.93800   \n",
       "998                     11.0                            7.0      439.32700   \n",
       "999                      7.0                            4.0      443.60800   \n",
       "\n",
       "variable  prepared_foods_sales  produce_sales  \\\n",
       "0                      0.00000         0.0000   \n",
       "1                    127.35700         0.0000   \n",
       "2                     92.04300         0.0000   \n",
       "3                     78.30300         0.0000   \n",
       "4                     82.11200         0.0000   \n",
       "..                         ...            ...   \n",
       "995                  127.03900      2117.1490   \n",
       "996                  186.64300      3141.8990   \n",
       "997                  204.58301      3469.6260   \n",
       "998                   79.14700      2207.6200   \n",
       "999                   74.40300      2195.5261   \n",
       "\n",
       "variable  school_and_office_supplies_sales  seafood_sales   total_sales  \n",
       "0                                      0.0       0.000000      0.000000  \n",
       "1                                      0.0      31.373001  10266.718981  \n",
       "2                                      0.0      34.343000   7612.540000  \n",
       "3                                      0.0      49.833000   7526.377000  \n",
       "4                                      0.0      43.962000   9539.566000  \n",
       "..                                     ...            ...           ...  \n",
       "995                                    0.0      55.082000  14126.552000  \n",
       "996                                    0.0      50.721000  18260.331000  \n",
       "997                                    0.0      45.368000  20693.301010  \n",
       "998                                    0.0      23.197000  12586.234000  \n",
       "999                                    1.0      44.753000  12392.605100  \n",
       "\n",
       "[1000 rows x 37 columns]"
      ]
     },
     "execution_count": 40,
     "metadata": {},
     "output_type": "execute_result"
    }
   ],
   "source": [
    "dataset_training.temporal_data.head(1000)\n",
    "# dataset_testing.temporal_data.head(500)"
   ]
  },
  {
   "cell_type": "markdown",
   "metadata": {},
   "source": [
    "## Step 3: Define problem   \n",
    "\n",
    "Set the time-series prediction problem that we want to solve. Set the problem (whether it is one-shot or online prediction), set the label, set the maximum sequence length, and set the treatment features. We also define the metric for evaluation and the task itself (whether classification or regression). In this tutorial, we predict whether the patients will get ventilator after 4 hours (online setting).\n",
    "  - problem: 'one-shot'(one time prediction) or 'online'(rolling window prediction)\n",
    "    - 'one-shot': one time prediction at the end of the time-series \n",
    "    - 'online': preditcion at every time stamps of the time-series\n",
    "  - max_seq_len: maximum sequence length of time-series sequence\n",
    "  - label_name: the column name for the label(s)\n",
    "  - treatment: the column name for treatments\n",
    "  - window: x-hour ahead prediction.\n",
    "  \n",
    "  - other parameters:\n",
    "    - metric_name: auc, apr, mse, mae\n",
    "    - task: classification or regression"
   ]
  },
  {
   "cell_type": "code",
   "execution_count": 41,
   "metadata": {},
   "outputs": [
    {
     "name": "stderr",
     "output_type": "stream",
     "text": [
      "100%|██████████| 48/48 [00:00<00:00, 331.88it/s]\n",
      "100%|██████████| 48/48 [00:00<00:00, 482.68it/s]\n",
      "100%|██████████| 48/48 [00:00<00:00, 479.57it/s]\n",
      "100%|██████████| 6/6 [00:00<00:00, 455.34it/s]\n",
      "100%|██████████| 6/6 [00:00<00:00, 443.23it/s]\n",
      "100%|██████████| 6/6 [00:00<00:00, 414.71it/s]"
     ]
    },
    {
     "name": "stdout",
     "output_type": "stream",
     "text": [
      "Finish defining problem.\n"
     ]
    },
    {
     "name": "stderr",
     "output_type": "stream",
     "text": [
      "\n"
     ]
    }
   ],
   "source": [
    "from preprocessing import ProblemMaker\n",
    "\n",
    "# Define parameters\n",
    "problem = 'online'\n",
    "max_seq_len = 500\n",
    "label_name = 'above_15k_sales'\n",
    "treatment = None\n",
    "window = 0\n",
    "# Define problem \n",
    "problem_maker = ProblemMaker(problem=problem, label=[label_name],\n",
    "                             max_seq_len=max_seq_len, treatment=treatment, window = window)\n",
    "\n",
    "dataset_training = problem_maker.fit_transform(dataset_training)\n",
    "dataset_testing = problem_maker.fit_transform(dataset_testing)\n",
    "\n",
    "# Set other parameters\n",
    "metric_name = 'auc'\n",
    "task = 'classification'\n",
    "\n",
    "metric_sets = [metric_name]\n",
    "metric_parameters =  {'problem': problem, 'label_name': [label_name]}\n",
    "\n",
    "print('Finish defining problem.')"
   ]
  },
  {
   "cell_type": "markdown",
   "metadata": {},
   "source": [
    "## Step 4: Impute dataset\n",
    "\n",
    "Impute missing values in the preprocessed static and temporal datasets and return complete datasets.\n",
    "  - Static imputation (6 options): mean, median, mice, missforest, knn, gain\n",
    "  - Temporal imputation (8 options): mean, median, linear, quadratic, cubic, spline, mrnn, tgain"
   ]
  },
  {
   "cell_type": "code",
   "execution_count": 42,
   "metadata": {},
   "outputs": [],
   "source": [
    "# from imputation import Imputation\n",
    "\n",
    "# # Set imputation models\n",
    "# static_imputation_model = 'median'\n",
    "# temporal_imputation_model = 'median'\n",
    "\n",
    "# # Impute the missing data\n",
    "# static_imputation = Imputation(imputation_model_name = static_imputation_model, data_type = 'static')\n",
    "# temporal_imputation = Imputation(imputation_model_name = temporal_imputation_model, data_type = 'temporal')\n",
    "\n",
    "# imputation_pipeline = PipelineComposer(static_imputation, temporal_imputation)\n",
    "\n",
    "# dataset_training = imputation_pipeline.fit_transform(dataset_training)\n",
    "# dataset_testing = imputation_pipeline.transform(dataset_testing)\n",
    "\n",
    "# print('Finish imputation.')"
   ]
  },
  {
   "cell_type": "markdown",
   "metadata": {},
   "source": [
    "## Step 5: Feature selection\n",
    "\n",
    "Select the relevant static and temporal features to the labels. If you do not want, we can skip the feature selection (set feature selection method = None).\n",
    "  - feature selection method: \n",
    "      - feature_selection_model: greedy-addition, greedy-deletion, recursive-addition, recursive-deletion, None\n",
    "      - feature_number: selected featuer number"
   ]
  },
  {
   "cell_type": "code",
   "execution_count": 43,
   "metadata": {},
   "outputs": [],
   "source": [
    "# from feature_selection import FeatureSelection\n",
    "\n",
    "# # Set feature selection parameters\n",
    "# static_feature_selection_model = None\n",
    "# temporal_feature_selection_model = None\n",
    "# static_feature_selection_number = None\n",
    "# temporal_feature_selection_number = None\n",
    "\n",
    "# # Select relevant features\n",
    "# static_feature_selection = \\\n",
    "# FeatureSelection(feature_selection_model_name = static_feature_selection_model,\n",
    "#                  feature_type = 'static', feature_number = static_feature_selection_number,\n",
    "#                  task = task, metric_name = metric_name,\n",
    "#                  metric_parameters = metric_parameters)\n",
    "\n",
    "# temporal_feature_selection = \\\n",
    "# FeatureSelection(feature_selection_model_name = temporal_feature_selection_model,\n",
    "#                  feature_type = 'temporal', feature_number = temporal_feature_selection_number,\n",
    "#                  task = task, metric_name = metric_name,\n",
    "#                  metric_parameters = metric_parameters)\n",
    "\n",
    "# feature_selection_pipeline = PipelineComposer(static_feature_selection, temporal_feature_selection)\n",
    "\n",
    "# dataset_training = feature_selection_pipeline.fit_transform(dataset_training)\n",
    "# dataset_testing = feature_selection_pipeline.transform(dataset_testing)\n",
    "\n",
    "# print('Finish feature selection.')"
   ]
  },
  {
   "cell_type": "markdown",
   "metadata": {},
   "source": [
    "## Step 6: Time-series model fit and predict\n",
    "\n",
    "After finishing the data preparation, we define the predictive models (6 options, RNN, GRU, LSTM, Attention, Temporal CNN, and Transformer), and train the model using the training dataset. We set validation set as the 20% of the training set for early stopping and best model saving. After training, we use the trained model to predict the labels of the testing dataset.\n",
    "\n",
    "- predictor_parameters:\n",
    "  - model_name: rnn, gru, lstm, attention, tcn, transformer\n",
    "  - model_parameters: network parameters such as numer of layers\n",
    "    - h_dim: hidden dimensions\n",
    "    - n_layer: layer number\n",
    "    - n_head: head number (only for transformer model)\n",
    "    - batch_size: number of samples in mini-batch\n",
    "    - epochs: number of epochs\n",
    "    - learning_rate: learning rate\n",
    "  - static_mode: how to utilize static features (concatenate or None)\n",
    "  - time_mode: how to utilize time information (concatenate or None)"
   ]
  },
  {
   "cell_type": "code",
   "execution_count": 44,
   "metadata": {},
   "outputs": [
    {
     "name": "stdout",
     "output_type": "stream",
     "text": [
      "Validation Results - Epoch[1] Avg loss: 2087.03\n",
      "Validation Results - Epoch[2] Avg loss: 4339.07\n",
      "Validation Results - Epoch[3] Avg loss: 1695.40\n",
      "Validation Results - Epoch[4] Avg loss: 1957.31\n"
     ]
    }
   ],
   "source": [
    "from prediction import prediction\n",
    "\n",
    "# Set predictive model\n",
    "model_name = 'transformer'\n",
    "\n",
    "# Set model parameters\n",
    "model_parameters = {'h_dim': 512,\n",
    "                    'n_layer': 4,\n",
    "                    'n_head': 4,\n",
    "                    'batch_size': 128,\n",
    "                    'epoch': 20,\n",
    "                    'model_type': model_name,\n",
    "                    'learning_rate': 0.001,\n",
    "                    'static_mode': 'Concatenate',\n",
    "                    'time_mode': 'Concatenate',\n",
    "                    'verbose': True}\n",
    "\n",
    "# Set up validation for early stopping and best model saving\n",
    "dataset_training.train_val_test_split(prob_val=0.2, prob_test = 0.0)\n",
    "\n",
    "# Train the predictive model\n",
    "pred_class = prediction(model_name, model_parameters, task)\n",
    "pred_class.fit(dataset_training)\n",
    "# Return the predictions on the testing set\n",
    "test_y_hat = pred_class.predict(dataset_testing)\n",
    "\n",
    "print('Finish predictor model training and testing.')"
   ]
  },
  {
   "cell_type": "markdown",
   "metadata": {},
   "source": [
    "## Step 7: Estimate uncertainty\n",
    "\n",
    "Estimate uncertainty of the predictor models and returns the uncertainty of the predictions (test_ci_hat).\n",
    "\n",
    "- uncertainty_parameters:\n",
    "  - uncertainty estimation model name (ensemble)"
   ]
  },
  {
   "cell_type": "code",
   "execution_count": 20,
   "metadata": {},
   "outputs": [
    {
     "name": "stdout",
     "output_type": "stream",
     "text": [
      "Train on 39 samples, validate on 9 samples\n",
      "Epoch 1/20\n",
      "39/39 [==============================] - 2s 48ms/sample - loss: -3338.2642 - val_loss: -15051.1377\n",
      "Epoch 2/20\n",
      "39/39 [==============================] - 0s 13ms/sample - loss: -14016.3838 - val_loss: -24974.6934\n",
      "Epoch 3/20\n",
      "39/39 [==============================] - 0s 13ms/sample - loss: -23483.6797 - val_loss: -33620.1250\n",
      "Epoch 4/20\n",
      "39/39 [==============================] - 0s 13ms/sample - loss: -31759.6855 - val_loss: -41355.5078\n",
      "Epoch 5/20\n",
      "39/39 [==============================] - 1s 13ms/sample - loss: -39205.0508 - val_loss: -48604.2461\n",
      "Epoch 6/20\n",
      "39/39 [==============================] - 1s 13ms/sample - loss: -46130.9062 - val_loss: -55486.6250\n",
      "Epoch 7/20\n",
      "39/39 [==============================] - 0s 13ms/sample - loss: -52687.2344 - val_loss: -61958.1602\n",
      "Epoch 8/20\n",
      "39/39 [==============================] - 0s 13ms/sample - loss: -58841.3359 - val_loss: -67983.3438\n",
      "Epoch 9/20\n",
      "39/39 [==============================] - 0s 13ms/sample - loss: -64599.6836 - val_loss: -73570.6094\n",
      "Epoch 10/20\n",
      "39/39 [==============================] - 0s 13ms/sample - loss: -69895.9141 - val_loss: -78676.4531\n",
      "Epoch 11/20\n",
      "39/39 [==============================] - 0s 13ms/sample - loss: -74771.4688 - val_loss: -83366.4531\n",
      "Epoch 12/20\n",
      "39/39 [==============================] - 0s 12ms/sample - loss: -79246.4453 - val_loss: -87674.6250\n",
      "Epoch 13/20\n",
      "39/39 [==============================] - 0s 12ms/sample - loss: -83372.3750 - val_loss: -91641.5391\n",
      "Epoch 14/20\n",
      "39/39 [==============================] - 0s 12ms/sample - loss: -87171.0859 - val_loss: -95293.9766\n",
      "Epoch 15/20\n",
      "39/39 [==============================] - 0s 12ms/sample - loss: -90660.4531 - val_loss: -98649.9453\n",
      "Epoch 16/20\n",
      "39/39 [==============================] - 0s 12ms/sample - loss: -93850.3672 - val_loss: -101690.6562\n",
      "Epoch 17/20\n",
      "39/39 [==============================] - 0s 12ms/sample - loss: -96754.0078 - val_loss: -104467.5703\n",
      "Epoch 18/20\n",
      "39/39 [==============================] - 0s 12ms/sample - loss: -99394.8125 - val_loss: -107000.8672\n",
      "Epoch 19/20\n",
      "39/39 [==============================] - 0s 12ms/sample - loss: -101795.8672 - val_loss: -109316.9062\n",
      "Epoch 20/20\n",
      "39/39 [==============================] - 0s 12ms/sample - loss: -103991.2812 - val_loss: -111453.0156\n",
      "Train on 39 samples, validate on 9 samples\n",
      "Epoch 1/20\n",
      "39/39 [==============================] - 5s 125ms/sample - loss: -4397.3955 - val_loss: -8916.3545\n",
      "Epoch 2/20\n",
      "39/39 [==============================] - 2s 47ms/sample - loss: -8427.1543 - val_loss: -13330.1865\n",
      "Epoch 3/20\n",
      "39/39 [==============================] - 2s 46ms/sample - loss: -12612.4043 - val_loss: -18037.2832\n",
      "Epoch 4/20\n",
      "39/39 [==============================] - 2s 50ms/sample - loss: -17150.2285 - val_loss: -23226.4355\n",
      "Epoch 5/20\n",
      "39/39 [==============================] - 2s 48ms/sample - loss: -22172.1211 - val_loss: -29072.3867\n",
      "Epoch 6/20\n",
      "39/39 [==============================] - 2s 46ms/sample - loss: -27686.1445 - val_loss: -35401.3438\n",
      "Epoch 7/20\n",
      "39/39 [==============================] - 2s 47ms/sample - loss: -33630.4609 - val_loss: -41763.9844\n",
      "Epoch 8/20\n",
      "39/39 [==============================] - 2s 47ms/sample - loss: -39741.4453 - val_loss: -48146.6719\n",
      "Epoch 9/20\n",
      "39/39 [==============================] - 2s 46ms/sample - loss: -45834.7930 - val_loss: -54209.3242\n",
      "Epoch 10/20\n",
      "39/39 [==============================] - 2s 47ms/sample - loss: -51635.3320 - val_loss: -59795.2578\n",
      "Epoch 11/20\n",
      "39/39 [==============================] - 2s 46ms/sample - loss: -57000.1133 - val_loss: -65097.4844\n",
      "Epoch 12/20\n",
      "39/39 [==============================] - 2s 47ms/sample - loss: -62059.4805 - val_loss: -70075.2734\n",
      "Epoch 13/20\n",
      "39/39 [==============================] - 2s 47ms/sample - loss: -66832.1094 - val_loss: -74888.4375\n",
      "Epoch 14/20\n",
      "39/39 [==============================] - 2s 47ms/sample - loss: -71391.9922 - val_loss: -79652.7188\n",
      "Epoch 15/20\n",
      "39/39 [==============================] - 2s 47ms/sample - loss: -75881.7422 - val_loss: -84443.4766\n",
      "Epoch 16/20\n",
      "39/39 [==============================] - 2s 46ms/sample - loss: -80420.9062 - val_loss: -89401.5312\n",
      "Epoch 17/20\n",
      "39/39 [==============================] - 2s 46ms/sample - loss: -85140.6250 - val_loss: -94619.1328\n",
      "Epoch 18/20\n",
      "39/39 [==============================] - 2s 47ms/sample - loss: -90087.2344 - val_loss: -100023.2656\n",
      "Epoch 19/20\n",
      "39/39 [==============================] - 2s 47ms/sample - loss: -95235.4062 - val_loss: -105494.8281\n",
      "Epoch 20/20\n",
      "39/39 [==============================] - 2s 46ms/sample - loss: -100399.2500 - val_loss: -110631.6484\n",
      "Finish uncertainty estimation\n"
     ]
    }
   ],
   "source": [
    "from uncertainty import uncertainty\n",
    "\n",
    "# Set uncertainty model\n",
    "uncertainty_model_name = 'ensemble'\n",
    "\n",
    "# Train uncertainty model\n",
    "uncertainty_model = uncertainty(uncertainty_model_name, model_parameters, pred_class, task)\n",
    "uncertainty_model.fit(dataset_training)\n",
    "# Return uncertainty of the trained predictive model\n",
    "test_ci_hat = uncertainty_model.predict(dataset_testing)\n",
    "\n",
    "print('Finish uncertainty estimation')"
   ]
  },
  {
   "cell_type": "markdown",
   "metadata": {},
   "source": [
    "## Step 8: Interpret predictions.\n",
    "\n",
    "Interpret the trained predictor model and return the instance-wise feature and temporal importance.\n",
    "\n",
    "- interpretor_parameters:\n",
    "  - interpretation_model_name: interpretation model name (tinvase)"
   ]
  },
  {
   "cell_type": "code",
   "execution_count": 21,
   "metadata": {},
   "outputs": [
    {
     "name": "stdout",
     "output_type": "stream",
     "text": [
      "Train on 39 samples, validate on 9 samples\n",
      "Epoch 1/20\n",
      "39/39 [==============================] - 10s 246ms/sample - loss: 0.5592 - select_loss: 0.0592 - predict_loss: 0.5586 - val_loss: 0.3182 - val_select_loss: 0.0572 - val_predict_loss: 0.3177\n",
      "Epoch 2/20\n",
      "39/39 [==============================] - 4s 103ms/sample - loss: 0.3123 - select_loss: 0.0581 - predict_loss: 0.3117 - val_loss: 0.2028 - val_select_loss: 0.0594 - val_predict_loss: 0.2022\n",
      "Epoch 3/20\n",
      "39/39 [==============================] - 4s 113ms/sample - loss: 0.1969 - select_loss: 0.0607 - predict_loss: 0.1962 - val_loss: 0.1391 - val_select_loss: 0.0623 - val_predict_loss: 0.1384\n",
      "Epoch 4/20\n",
      "39/39 [==============================] - 4s 103ms/sample - loss: 0.1328 - select_loss: 0.0637 - predict_loss: 0.1321 - val_loss: 0.1061 - val_select_loss: 0.0647 - val_predict_loss: 0.1055\n",
      "Epoch 5/20\n",
      "39/39 [==============================] - 4s 115ms/sample - loss: 0.0989 - select_loss: 0.0658 - predict_loss: 0.0982 - val_loss: 0.0888 - val_select_loss: 0.0665 - val_predict_loss: 0.0881\n",
      "Epoch 6/20\n",
      "39/39 [==============================] - 5s 120ms/sample - loss: 0.0811 - select_loss: 0.0674 - predict_loss: 0.0804 - val_loss: 0.0795 - val_select_loss: 0.0674 - val_predict_loss: 0.0788\n",
      "Epoch 7/20\n",
      "39/39 [==============================] - 4s 111ms/sample - loss: 0.0714 - select_loss: 0.0683 - predict_loss: 0.0708 - val_loss: 0.0739 - val_select_loss: 0.0675 - val_predict_loss: 0.0732\n",
      "Epoch 8/20\n",
      "39/39 [==============================] - 4s 99ms/sample - loss: 0.0658 - select_loss: 0.0687 - predict_loss: 0.0651 - val_loss: 0.0701 - val_select_loss: 0.0671 - val_predict_loss: 0.0695\n",
      "Epoch 9/20\n",
      "39/39 [==============================] - 4s 102ms/sample - loss: 0.0621 - select_loss: 0.0683 - predict_loss: 0.0614 - val_loss: 0.0673 - val_select_loss: 0.0665 - val_predict_loss: 0.0667\n",
      "Epoch 10/20\n",
      "39/39 [==============================] - 4s 105ms/sample - loss: 0.0595 - select_loss: 0.0677 - predict_loss: 0.0588 - val_loss: 0.0651 - val_select_loss: 0.0655 - val_predict_loss: 0.0644\n",
      "Epoch 11/20\n",
      "39/39 [==============================] - 4s 99ms/sample - loss: 0.0573 - select_loss: 0.0668 - predict_loss: 0.0566 - val_loss: 0.0630 - val_select_loss: 0.0643 - val_predict_loss: 0.0624\n",
      "Epoch 12/20\n",
      "39/39 [==============================] - 4s 104ms/sample - loss: 0.0554 - select_loss: 0.0657 - predict_loss: 0.0547 - val_loss: 0.0610 - val_select_loss: 0.0630 - val_predict_loss: 0.0604\n",
      "Epoch 13/20\n",
      "39/39 [==============================] - 4s 110ms/sample - loss: 0.0536 - select_loss: 0.0644 - predict_loss: 0.0529 - val_loss: 0.0590 - val_select_loss: 0.0616 - val_predict_loss: 0.0583\n",
      "Epoch 14/20\n",
      "39/39 [==============================] - 4s 100ms/sample - loss: 0.0517 - select_loss: 0.0631 - predict_loss: 0.0511 - val_loss: 0.0568 - val_select_loss: 0.0602 - val_predict_loss: 0.0562\n",
      "Epoch 15/20\n",
      "39/39 [==============================] - 4s 98ms/sample - loss: 0.0498 - select_loss: 0.0616 - predict_loss: 0.0492 - val_loss: 0.0545 - val_select_loss: 0.0588 - val_predict_loss: 0.0539\n",
      "Epoch 16/20\n",
      "39/39 [==============================] - 4s 98ms/sample - loss: 0.0478 - select_loss: 0.0602 - predict_loss: 0.0471 - val_loss: 0.0520 - val_select_loss: 0.0573 - val_predict_loss: 0.0514\n",
      "Epoch 17/20\n",
      "39/39 [==============================] - 4s 97ms/sample - loss: 0.0455 - select_loss: 0.0587 - predict_loss: 0.0449 - val_loss: 0.0492 - val_select_loss: 0.0558 - val_predict_loss: 0.0486\n",
      "Epoch 18/20\n",
      "39/39 [==============================] - 4s 99ms/sample - loss: 0.0430 - select_loss: 0.0572 - predict_loss: 0.0424 - val_loss: 0.0460 - val_select_loss: 0.0544 - val_predict_loss: 0.0455\n",
      "Epoch 19/20\n",
      "39/39 [==============================] - 4s 101ms/sample - loss: 0.0403 - select_loss: 0.0557 - predict_loss: 0.0397 - val_loss: 0.0425 - val_select_loss: 0.0530 - val_predict_loss: 0.0420\n",
      "Epoch 20/20\n",
      "39/39 [==============================] - 5s 118ms/sample - loss: 0.0371 - select_loss: 0.0542 - predict_loss: 0.0366 - val_loss: 0.0385 - val_select_loss: 0.0516 - val_predict_loss: 0.0380\n",
      "Finish model interpretation\n"
     ]
    }
   ],
   "source": [
    "from interpretation import interpretation\n",
    "\n",
    "# Set interpretation model\n",
    "interpretation_model_name = 'tinvase'\n",
    "\n",
    "# Train interpretation model\n",
    "interpretor = interpretation(interpretation_model_name, model_parameters, pred_class, task)\n",
    "interpretor.fit(dataset_training)\n",
    "# Return instance-wise temporal and static feature importance\n",
    "test_s_hat = interpretor.predict(dataset_testing)\n",
    "\n",
    "print('Finish model interpretation')"
   ]
  },
  {
   "cell_type": "markdown",
   "metadata": {},
   "source": [
    "## Step 9: Visualize results\n",
    "\n",
    "(1) Visualize the performance of the trained model."
   ]
  },
  {
   "cell_type": "code",
   "execution_count": 33,
   "metadata": {},
   "outputs": [
    {
     "name": "stdout",
     "output_type": "stream",
     "text": [
      "Finish predictor model evaluation.\n",
      "Overall performance\n"
     ]
    },
    {
     "data": {
      "image/png": "[encoded data removed]",
      "text/plain": [
       "<Figure size 576x360 with 1 Axes>"
      ]
     },
     "metadata": {
      "needs_background": "light"
     },
     "output_type": "display_data"
    },
    {
     "data": {
      "text/plain": [
       "[<Figure size 576x360 with 1 Axes>]"
      ]
     },
     "execution_count": 33,
     "metadata": {},
     "output_type": "execute_result"
    }
   ],
   "source": [
    "from evaluation import Metrics\n",
    "from evaluation import print_performance\n",
    "\n",
    "# Evaluate predictor model\n",
    "result = Metrics(metric_sets, metric_parameters).evaluate(dataset_testing.label, test_y_hat)\n",
    "print('Finish predictor model evaluation.')\n",
    "\n",
    "print('Overall performance')\n",
    "print_performance(result, metric_sets, metric_parameters)"
   ]
  },
  {
   "cell_type": "code",
   "execution_count": 18,
   "metadata": {},
   "outputs": [
    {
     "data": {
      "text/plain": [
       "{'above_15k_sales + auc': array([0. , 0.1, 0.4, 0. , 0. , 0. , 0. , 0.4, 0.6, 1. , 1. , 0. , 0. ,\n",
       "        0. , 0.8, 0.3, 0.9, 0. , 0. , 0. , 0. , 0.9, 0.8, 1. , 0.8, 0.4,\n",
       "        0.5, 0. , 0.9, 1. , 1. , 0.8, 0.6, 0.4, 0. , 1. , 1. , 1. , 0.4,\n",
       "        0. , nan, nan, nan, nan, nan, nan, nan, nan, nan, nan])}"
      ]
     },
     "execution_count": 18,
     "metadata": {},
     "output_type": "execute_result"
    }
   ],
   "source": [
    "result"
   ]
  },
  {
   "cell_type": "markdown",
   "metadata": {},
   "source": [
    "## Step 9: Visualize results\n",
    "\n",
    "(2) Visualize the predictions of a certain patient by trained predictive model."
   ]
  },
  {
   "cell_type": "code",
   "execution_count": 34,
   "metadata": {},
   "outputs": [
    {
     "name": "stdout",
     "output_type": "stream",
     "text": [
      "Each prediction\n"
     ]
    },
    {
     "data": {
      "image/png": "[encoded data removed]",
      "text/plain": [
       "<Figure size 576x360 with 1 Axes>"
      ]
     },
     "metadata": {
      "needs_background": "light"
     },
     "output_type": "display_data"
    },
    {
     "data": {
      "image/png": "[encoded data removed]",
      "text/plain": [
       "<Figure size 576x360 with 1 Axes>"
      ]
     },
     "metadata": {
      "needs_background": "light"
     },
     "output_type": "display_data"
    },
    {
     "data": {
      "image/png": "[encoded data removed]",
      "text/plain": [
       "<Figure size 576x360 with 1 Axes>"
      ]
     },
     "metadata": {
      "needs_background": "light"
     },
     "output_type": "display_data"
    },
    {
     "data": {
      "image/png": "[encoded data removed]",
      "text/plain": [
       "<Figure size 576x360 with 1 Axes>"
      ]
     },
     "metadata": {
      "needs_background": "light"
     },
     "output_type": "display_data"
    },
    {
     "data": {
      "image/png": "[encoded data removed]",
      "text/plain": [
       "<Figure size 576x360 with 1 Axes>"
      ]
     },
     "metadata": {
      "needs_background": "light"
     },
     "output_type": "display_data"
    },
    {
     "data": {
      "image/png": "[encoded data removed]",
      "text/plain": [
       "<Figure size 576x360 with 1 Axes>"
      ]
     },
     "metadata": {
      "needs_background": "light"
     },
     "output_type": "display_data"
    },
    {
     "data": {
      "text/plain": [
       "[<Figure size 576x360 with 1 Axes>,\n",
       " <Figure size 576x360 with 1 Axes>,\n",
       " <Figure size 576x360 with 1 Axes>,\n",
       " <Figure size 576x360 with 1 Axes>,\n",
       " <Figure size 576x360 with 1 Axes>,\n",
       " <Figure size 576x360 with 1 Axes>]"
      ]
     },
     "execution_count": 34,
     "metadata": {},
     "output_type": "execute_result"
    }
   ],
   "source": [
    "from evaluation import print_prediction\n",
    "\n",
    "# Set the patient index for visualization\n",
    "index = [0,1,2,3,4,5]\n",
    "\n",
    "print('Each prediction')\n",
    "print_prediction(np.rint(test_y_hat[index]), metric_parameters)"
   ]
  },
  {
   "cell_type": "code",
   "execution_count": 16,
   "metadata": {},
   "outputs": [
    {
     "data": {
      "text/plain": [
       "array([[0.],\n",
       "       [0.],\n",
       "       [0.],\n",
       "       [0.],\n",
       "       [0.],\n",
       "       [0.],\n",
       "       [0.],\n",
       "       [0.],\n",
       "       [0.],\n",
       "       [0.],\n",
       "       [0.],\n",
       "       [0.],\n",
       "       [0.],\n",
       "       [0.],\n",
       "       [0.],\n",
       "       [0.],\n",
       "       [0.],\n",
       "       [0.],\n",
       "       [0.],\n",
       "       [0.],\n",
       "       [0.],\n",
       "       [0.],\n",
       "       [0.],\n",
       "       [0.],\n",
       "       [0.],\n",
       "       [0.],\n",
       "       [0.],\n",
       "       [0.],\n",
       "       [0.],\n",
       "       [0.],\n",
       "       [0.],\n",
       "       [0.],\n",
       "       [0.],\n",
       "       [0.],\n",
       "       [0.],\n",
       "       [0.],\n",
       "       [0.],\n",
       "       [0.],\n",
       "       [0.],\n",
       "       [0.],\n",
       "       [0.],\n",
       "       [0.],\n",
       "       [0.],\n",
       "       [0.],\n",
       "       [0.],\n",
       "       [0.],\n",
       "       [0.],\n",
       "       [0.],\n",
       "       [0.],\n",
       "       [0.]], dtype=float32)"
      ]
     },
     "execution_count": 16,
     "metadata": {},
     "output_type": "execute_result"
    }
   ],
   "source": [
    "np.rint(test_y_hat[0])"
   ]
  },
  {
   "cell_type": "markdown",
   "metadata": {},
   "source": [
    "## Step 9: Visualize results\n",
    "\n",
    "(3) Visualize the uncertainty of a certain patient by trained predictive and uncertainty model."
   ]
  },
  {
   "cell_type": "code",
   "execution_count": 22,
   "metadata": {},
   "outputs": [
    {
     "name": "stdout",
     "output_type": "stream",
     "text": [
      "Uncertainty estimations\n"
     ]
    },
    {
     "data": {
      "image/png": "[encoded data removed]",
      "text/plain": [
       "<Figure size 576x360 with 1 Axes>"
      ]
     },
     "metadata": {
      "needs_background": "light"
     },
     "output_type": "display_data"
    },
    {
     "data": {
      "text/plain": [
       "[<Figure size 576x360 with 1 Axes>]"
      ]
     },
     "execution_count": 22,
     "metadata": {},
     "output_type": "execute_result"
    }
   ],
   "source": [
    "from evaluation import print_uncertainty\n",
    "\n",
    "print('Uncertainty estimations')\n",
    "print_uncertainty (test_y_hat[index], test_ci_hat[index], metric_parameters)"
   ]
  },
  {
   "cell_type": "markdown",
   "metadata": {},
   "source": [
    "## Step 9: Visualize results\n",
    "\n",
    "(4) Visualize the interpretation of a certain patient prediction."
   ]
  },
  {
   "cell_type": "code",
   "execution_count": 23,
   "metadata": {},
   "outputs": [
    {
     "name": "stdout",
     "output_type": "stream",
     "text": [
      "Model interpretation\n"
     ]
    },
    {
     "data": {
      "image/png": "[encoded data removed]",
      "text/plain": [
       "<Figure size 576x720 with 2 Axes>"
      ]
     },
     "metadata": {
      "needs_background": "light"
     },
     "output_type": "display_data"
    },
    {
     "data": {
      "text/plain": [
       "[<Figure size 576x720 with 2 Axes>]"
      ]
     },
     "execution_count": 23,
     "metadata": {},
     "output_type": "execute_result"
    }
   ],
   "source": [
    "from evaluation import print_interpretation\n",
    "\n",
    "print('Model interpretation')\n",
    "print_interpretation (test_s_hat[index], dataset_training.feature_name, metric_parameters, model_parameters)"
   ]
  },
  {
   "cell_type": "code",
   "execution_count": 27,
   "metadata": {},
   "outputs": [
    {
     "data": {
      "text/plain": [
       "(6, 1000, 34)"
      ]
     },
     "execution_count": 27,
     "metadata": {},
     "output_type": "execute_result"
    }
   ],
   "source": [
    "test_s_hat.shape"
   ]
  },
  {
   "cell_type": "code",
   "execution_count": 38,
   "metadata": {},
   "outputs": [
    {
     "data": {
      "text/plain": [
       "100    0.0\n",
       "101    0.0\n",
       "102    0.0\n",
       "103    0.0\n",
       "104    0.0\n",
       "105    0.0\n",
       "106    0.0\n",
       "107    0.0\n",
       "108    0.0\n",
       "109    0.0\n",
       "Name: above_15k_sales, dtype: float64"
      ]
     },
     "execution_count": 38,
     "metadata": {},
     "output_type": "execute_result"
    }
   ],
   "source": [
    "#test_s\n",
    "id1 = dataset_testing.temporal_data[dataset_testing.temporal_data[\"id\"] == 1]\n",
    "id1[\"above_15k_sales\"][100:110]"
   ]
  },
  {
   "cell_type": "code",
   "execution_count": 41,
   "metadata": {},
   "outputs": [
    {
     "data": {
      "text/plain": [
       "(10, 34)"
      ]
     },
     "execution_count": 41,
     "metadata": {},
     "output_type": "execute_result"
    }
   ],
   "source": [
    "test_s_hat[0, 100:110].shape"
   ]
  },
  {
   "cell_type": "code",
   "execution_count": 42,
   "metadata": {},
   "outputs": [
    {
     "data": {
      "text/plain": [
       "(6, 1000, 34)"
      ]
     },
     "execution_count": 42,
     "metadata": {},
     "output_type": "execute_result"
    }
   ],
   "source": [
    "test_s_hat.shape"
   ]
  },
  {
   "cell_type": "code",
   "execution_count": null,
   "metadata": {},
   "outputs": [],
   "source": []
  }
 ],
 "metadata": {
  "kernelspec": {
   "display_name": "Python 3 (ipykernel)",
   "language": "python",
   "name": "python3"
  },
  "language_info": {
   "codemirror_mode": {
    "name": "ipython",
    "version": 3
   },
   "file_extension": ".py",
   "mimetype": "text/x-python",
   "name": "python",
   "nbconvert_exporter": "python",
   "pygments_lexer": "ipython3",
   "version": "3.7.12"
  }
 },
 "nbformat": 4,
 "nbformat_minor": 4
}
